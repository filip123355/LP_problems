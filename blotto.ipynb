{
 "cells": [
  {
   "cell_type": "code",
   "execution_count": 1,
   "id": "f9674603",
   "metadata": {},
   "outputs": [],
   "source": [
    "import pulp\n",
    "import itertools\n",
    "import matplotlib.pyplot as plt"
   ]
  },
  {
   "cell_type": "markdown",
   "id": "5733ca9e",
   "metadata": {},
   "source": [
    "## Parameters"
   ]
  },
  {
   "cell_type": "code",
   "execution_count": 2,
   "id": "f00418c4",
   "metadata": {},
   "outputs": [],
   "source": [
    "troops = 5\n",
    "battlefileds = 3"
   ]
  },
  {
   "cell_type": "markdown",
   "id": "52a7e57d",
   "metadata": {},
   "source": [
    "## Strategies generation"
   ]
  },
  {
   "cell_type": "code",
   "execution_count": 3,
   "id": "679245f8",
   "metadata": {},
   "outputs": [],
   "source": [
    "def genearte_distributions(troops: int, \n",
    "                           battlefileds: int) -> list:\n",
    "    \n",
    "    \"\"\"Function for the possible distribution generation\"\"\"\n",
    "    \n",
    "    if battlefileds == 1:\n",
    "        return [[troops]]\n",
    "    \n",
    "    distributions = []\n",
    "    for i in range(troops + 1):\n",
    "        for rest in genearte_distributions(troops - i, battlefileds - 1):\n",
    "            distributions.append([i] + rest)\n",
    "    return distributions"
   ]
  },
  {
   "cell_type": "code",
   "execution_count": 4,
   "id": "f9f9bc6e",
   "metadata": {},
   "outputs": [],
   "source": [
    "my_strategies = genearte_distributions(troops, battlefileds)\n",
    "opponent_strategies = my_strategies.copy()"
   ]
  },
  {
   "cell_type": "markdown",
   "id": "e5baf1db",
   "metadata": {},
   "source": [
    "## Setting up the solver "
   ]
  },
  {
   "cell_type": "code",
   "execution_count": 6,
   "id": "15003185",
   "metadata": {},
   "outputs": [],
   "source": [
    "# Probabilities for each pure strategy\n",
    "prob_vars = [pulp.LpVariable(f\"p_{i}\", lowBound=0) for i in range(len(my_strategies))]"
   ]
  },
  {
   "cell_type": "code",
   "execution_count": 7,
   "id": "1276b20e",
   "metadata": {},
   "outputs": [],
   "source": [
    "# Game value\n",
    "v = pulp.LpVariable(\"v\")"
   ]
  },
  {
   "cell_type": "code",
   "execution_count": 8,
   "id": "49405ca2",
   "metadata": {},
   "outputs": [],
   "source": [
    "# Problem\n",
    "prob = pulp.LpProblem(\"Battle_1\", pulp.LpMaximize)\n",
    "prob += v"
   ]
  },
  {
   "cell_type": "code",
   "execution_count": 9,
   "id": "234f6121",
   "metadata": {},
   "outputs": [],
   "source": [
    "# Constraints\n",
    "for j, opp_strat in enumerate(opponent_strategies):\n",
    "    payoff_expr = 0\n",
    "    for i, my_start in enumerate(my_strategies):\n",
    "        wins = sum(1 if my_start[b] > opp_strat[b] else 0 for b in range(battlefileds))\n",
    "        payoff_expr += wins * prob_vars[i]\n",
    "    prob += (payoff_expr >= v)\n",
    "    \n",
    "prob += (pulp.lpSum(prob_vars) == 1)\n",
    "for prob_var in prob_vars:\n",
    "    prob += (prob_var >= 0)"
   ]
  },
  {
   "cell_type": "code",
   "execution_count": 10,
   "id": "d5bd4a2a",
   "metadata": {},
   "outputs": [
    {
     "data": {
      "text/plain": [
       "Battle_1:\n",
       "MAXIMIZE\n",
       "1*v + 0\n",
       "SUBJECT TO\n",
       "_C1: p_1 + 2 p_10 + p_11 + 2 p_12 + 2 p_13 + 2 p_14 + p_15 + 2 p_16 + 2 p_17\n",
       " + p_18 + 2 p_19 + p_2 + p_20 + p_3 + p_4 + p_5 + p_6 + 2 p_7 + 2 p_8 + 2 p_9\n",
       " - v >= 0\n",
       "\n",
       "_C2: p_0 + 2 p_10 + p_11 + p_12 + 2 p_13 + 2 p_14 + p_15 + p_16 + 2 p_17\n",
       " + p_18 + p_19 + p_2 + p_20 + p_3 + p_4 + p_5 + p_6 + p_7 + 2 p_8 + 2 p_9 - v\n",
       " >= 0\n",
       "\n",
       "_C3: p_0 + p_1 + 2 p_10 + p_11 + p_12 + p_13 + 2 p_14 + p_15 + p_16 + p_17\n",
       " + p_18 + p_19 + p_20 + p_3 + p_4 + p_5 + 2 p_6 + p_7 + p_8 + 2 p_9 - v >= 0\n",
       "\n",
       "_C4: p_0 + p_1 + 2 p_10 + 2 p_11 + p_12 + p_13 + p_14 + p_15 + p_16 + p_17\n",
       " + p_18 + p_19 + p_2 + p_20 + p_4 + p_5 + 2 p_6 + 2 p_7 + p_8 + p_9 - v >= 0\n",
       "\n",
       "_C5: p_0 + p_1 + p_10 + 2 p_11 + 2 p_12 + p_13 + p_14 + 2 p_15 + p_16 + p_17\n",
       " + p_18 + p_19 + p_2 + p_20 + p_3 + p_5 + 2 p_6 + 2 p_7 + 2 p_8 + p_9 - v >= 0\n",
       "\n",
       "_C6: p_0 + p_1 + p_10 + 2 p_11 + 2 p_12 + 2 p_13 + p_14 + 2 p_15 + 2 p_16\n",
       " + p_17 + 2 p_18 + p_19 + p_2 + p_20 + p_3 + p_4 + 2 p_6 + 2 p_7 + 2 p_8\n",
       " + 2 p_9 - v >= 0\n",
       "\n",
       "_C7: p_0 + p_1 + p_10 + p_11 + 2 p_12 + 2 p_13 + 2 p_14 + p_15 + 2 p_16\n",
       " + 2 p_17 + p_18 + 2 p_19 + p_2 + p_20 + p_3 + p_4 + p_5 + p_7 + p_8 + p_9 - v\n",
       " >= 0\n",
       "\n",
       "_C8: p_0 + p_1 + p_10 + p_11 + p_12 + 2 p_13 + 2 p_14 + p_15 + p_16 + 2 p_17\n",
       " + p_18 + p_19 + p_2 + p_20 + p_3 + p_4 + p_5 + p_6 + p_8 + p_9 - v >= 0\n",
       "\n",
       "_C9: p_0 + p_1 + p_10 + 2 p_11 + p_12 + p_13 + 2 p_14 + p_15 + p_16 + p_17\n",
       " + p_18 + p_19 + p_2 + p_20 + p_3 + p_4 + p_5 + p_6 + p_7 + p_9 - v >= 0\n",
       "\n",
       "_C10: p_0 + p_1 + p_10 + 2 p_11 + 2 p_12 + p_13 + p_14 + 2 p_15 + p_16 + p_17\n",
       " + p_18 + p_19 + p_2 + p_20 + p_3 + p_4 + p_5 + p_6 + p_7 + p_8 - v >= 0\n",
       "\n",
       "_C11: p_0 + p_1 + 2 p_11 + 2 p_12 + 2 p_13 + p_14 + 2 p_15 + 2 p_16 + p_17\n",
       " + 2 p_18 + p_19 + p_2 + p_20 + p_3 + p_4 + p_5 + p_6 + p_7 + p_8 + p_9 - v\n",
       " >= 0\n",
       "\n",
       "_C12: p_0 + 2 p_1 + p_10 + p_12 + p_13 + p_14 + p_15 + 2 p_16 + 2 p_17 + p_18\n",
       " + 2 p_19 + p_2 + p_20 + p_3 + p_4 + p_5 + p_6 + p_7 + p_8 + p_9 - v >= 0\n",
       "\n",
       "_C13: p_0 + p_1 + p_10 + p_11 + p_13 + p_14 + p_15 + p_16 + 2 p_17 + p_18\n",
       " + p_19 + 2 p_2 + p_20 + p_3 + p_4 + p_5 + p_6 + p_7 + p_8 + p_9 - v >= 0\n",
       "\n",
       "_C14: p_0 + p_1 + p_10 + p_11 + p_12 + p_14 + 2 p_15 + p_16 + p_17 + p_18\n",
       " + p_19 + p_2 + p_20 + 2 p_3 + p_4 + p_5 + p_6 + p_7 + p_8 + p_9 - v >= 0\n",
       "\n",
       "_C15: p_0 + p_1 + p_10 + p_11 + p_12 + p_13 + 2 p_15 + 2 p_16 + p_17 + 2 p_18\n",
       " + p_19 + p_2 + p_20 + p_3 + 2 p_4 + p_5 + p_6 + p_7 + p_8 + p_9 - v >= 0\n",
       "\n",
       "_C16: p_0 + 2 p_1 + p_10 + p_11 + p_12 + p_13 + p_14 + p_16 + p_17 + p_18\n",
       " + 2 p_19 + 2 p_2 + p_20 + p_3 + p_4 + p_5 + p_6 + 2 p_7 + p_8 + p_9 - v >= 0\n",
       "\n",
       "_C17: p_0 + p_1 + p_10 + p_11 + p_12 + p_13 + p_14 + p_15 + p_17 + p_18 + p_19\n",
       " + 2 p_2 + p_20 + 2 p_3 + p_4 + p_5 + p_6 + p_7 + 2 p_8 + p_9 - v >= 0\n",
       "\n",
       "_C18: p_0 + p_1 + p_10 + p_11 + p_12 + p_13 + p_14 + p_15 + p_16 + 2 p_18\n",
       " + p_19 + p_2 + p_20 + 2 p_3 + 2 p_4 + p_5 + p_6 + p_7 + p_8 + 2 p_9 - v >= 0\n",
       "\n",
       "_C19: p_0 + 2 p_1 + p_10 + p_11 + 2 p_12 + p_13 + p_14 + p_15 + p_16 + p_17\n",
       " + p_19 + 2 p_2 + p_20 + 2 p_3 + p_4 + p_5 + p_6 + 2 p_7 + 2 p_8 + p_9 - v\n",
       " >= 0\n",
       "\n",
       "_C20: p_0 + p_1 + p_10 + p_11 + p_12 + 2 p_13 + p_14 + p_15 + p_16 + p_17\n",
       " + p_18 + 2 p_2 + p_20 + 2 p_3 + 2 p_4 + p_5 + p_6 + p_7 + 2 p_8 + 2 p_9 - v\n",
       " >= 0\n",
       "\n",
       "_C21: p_0 + 2 p_1 + p_10 + p_11 + 2 p_12 + 2 p_13 + p_14 + p_15 + 2 p_16\n",
       " + p_17 + p_18 + p_19 + 2 p_2 + 2 p_3 + 2 p_4 + p_5 + p_6 + 2 p_7 + 2 p_8\n",
       " + 2 p_9 - v >= 0\n",
       "\n",
       "_C22: p_0 + p_1 + p_10 + p_11 + p_12 + p_13 + p_14 + p_15 + p_16 + p_17 + p_18\n",
       " + p_19 + p_2 + p_20 + p_3 + p_4 + p_5 + p_6 + p_7 + p_8 + p_9 = 1\n",
       "\n",
       "_C23: p_0 >= 0\n",
       "\n",
       "_C24: p_1 >= 0\n",
       "\n",
       "_C25: p_2 >= 0\n",
       "\n",
       "_C26: p_3 >= 0\n",
       "\n",
       "_C27: p_4 >= 0\n",
       "\n",
       "_C28: p_5 >= 0\n",
       "\n",
       "_C29: p_6 >= 0\n",
       "\n",
       "_C30: p_7 >= 0\n",
       "\n",
       "_C31: p_8 >= 0\n",
       "\n",
       "_C32: p_9 >= 0\n",
       "\n",
       "_C33: p_10 >= 0\n",
       "\n",
       "_C34: p_11 >= 0\n",
       "\n",
       "_C35: p_12 >= 0\n",
       "\n",
       "_C36: p_13 >= 0\n",
       "\n",
       "_C37: p_14 >= 0\n",
       "\n",
       "_C38: p_15 >= 0\n",
       "\n",
       "_C39: p_16 >= 0\n",
       "\n",
       "_C40: p_17 >= 0\n",
       "\n",
       "_C41: p_18 >= 0\n",
       "\n",
       "_C42: p_19 >= 0\n",
       "\n",
       "_C43: p_20 >= 0\n",
       "\n",
       "VARIABLES\n",
       "p_0 Continuous\n",
       "p_1 Continuous\n",
       "p_10 Continuous\n",
       "p_11 Continuous\n",
       "p_12 Continuous\n",
       "p_13 Continuous\n",
       "p_14 Continuous\n",
       "p_15 Continuous\n",
       "p_16 Continuous\n",
       "p_17 Continuous\n",
       "p_18 Continuous\n",
       "p_19 Continuous\n",
       "p_2 Continuous\n",
       "p_20 Continuous\n",
       "p_3 Continuous\n",
       "p_4 Continuous\n",
       "p_5 Continuous\n",
       "p_6 Continuous\n",
       "p_7 Continuous\n",
       "p_8 Continuous\n",
       "p_9 Continuous\n",
       "v free Continuous"
      ]
     },
     "execution_count": 10,
     "metadata": {},
     "output_type": "execute_result"
    }
   ],
   "source": [
    "prob"
   ]
  },
  {
   "cell_type": "code",
   "execution_count": 11,
   "id": "c6b069cd",
   "metadata": {},
   "outputs": [
    {
     "name": "stdout",
     "output_type": "stream",
     "text": [
      "Welcome to the CBC MILP Solver \n",
      "Version: 2.10.3 \n",
      "Build Date: Dec 15 2019 \n",
      "\n",
      "command line - /root/miniconda3/envs/py310lin/lib/python3.10/site-packages/pulp/apis/../solverdir/cbc/linux/i64/cbc /tmp/56de6519f5a7412f9d8c68d8dce5b046-pulp.mps -max -timeMode elapsed -branch -printingOptions all -solution /tmp/56de6519f5a7412f9d8c68d8dce5b046-pulp.sol (default strategy 1)\n",
      "At line 2 NAME          MODEL\n",
      "At line 3 ROWS\n",
      "At line 48 COLUMNS\n",
      "At line 533 RHS\n",
      "At line 577 BOUNDS\n",
      "At line 579 ENDATA\n",
      "Problem MODEL has 43 rows, 22 columns and 483 elements\n",
      "Coin0008I MODEL read with 0 errors\n",
      "Option for timeMode changed from cpu to elapsed\n",
      "Presolve 22 (-21) rows, 22 (0) columns and 462 (-21) elements\n",
      "Perturbing problem by 0.001% of 1 - largest nonzero change 0 ( 0%) - largest zero change 9.3128486e-05\n",
      "0  Obj 22.1 Primal inf 465.09998 (22)\n",
      "17  Obj 1.1665941\n",
      "Optimal - objective value 1.1666667\n",
      "After Postsolve, objective 1.1666667, infeasibilities - dual 0 (0), primal 0 (0)\n",
      "Optimal objective 1.166666667 - 17 iterations time 0.002, Presolve 0.00\n",
      "Option for printingOptions changed from normal to all\n",
      "Total time (CPU seconds):       0.00   (Wallclock seconds):       0.01\n",
      "\n"
     ]
    },
    {
     "data": {
      "text/plain": [
       "1"
      ]
     },
     "execution_count": 11,
     "metadata": {},
     "output_type": "execute_result"
    }
   ],
   "source": [
    "# Solve\n",
    "prob.solve()"
   ]
  },
  {
   "cell_type": "markdown",
   "id": "af28b9f8",
   "metadata": {},
   "source": [
    "## Results"
   ]
  },
  {
   "cell_type": "code",
   "execution_count": 12,
   "id": "7327cf17",
   "metadata": {},
   "outputs": [
    {
     "name": "stdout",
     "output_type": "stream",
     "text": [
      "Status: Optimal\n",
      "Startegy [0, 1, 4]: probability 0.1667\n",
      "Startegy [0, 2, 3]: probability 0.1667\n",
      "Startegy [1, 4, 0]: probability 0.1667\n",
      "Startegy [2, 3, 0]: probability 0.1667\n",
      "Startegy [3, 0, 2]: probability 0.1667\n",
      "Startegy [4, 0, 1]: probability 0.1667\n",
      "Game value: 1.1666667\n"
     ]
    }
   ],
   "source": [
    "print(f\"Status: {pulp.LpStatus[prob.status]}\")\n",
    "for var in prob_vars:\n",
    "    if var.varValue > 1e-6:\n",
    "        idx = int(var.name.split('_')[1])\n",
    "        print(f\"Startegy {my_strategies[idx]}: probability {var.varValue:.4f}\")\n",
    "print(f\"Game value: {v.varValue}\")"
   ]
  },
  {
   "cell_type": "code",
   "execution_count": 13,
   "id": "51d71c81",
   "metadata": {},
   "outputs": [
    {
     "data": {
      "image/png": "[encoded data removed]",
      "text/plain": [
       "<Figure size 1200x600 with 1 Axes>"
      ]
     },
     "metadata": {},
     "output_type": "display_data"
    }
   ],
   "source": [
    "# Plot\n",
    "strategies = []\n",
    "probabilities = []\n",
    "\n",
    "for var in prob_vars:\n",
    "    if var.varValue > 1e-5:\n",
    "        idx = int(var.name.split('_')[1])\n",
    "        strategies.append(str(my_strategies[idx]))\n",
    "        probabilities.append(var.varValue)\n",
    "\n",
    "plt.figure(figsize=(12,6))\n",
    "plt.bar(strategies, probabilities)\n",
    "plt.xticks(rotation=90)\n",
    "plt.ylabel('Probability')\n",
    "plt.xlabel('Strategy (troop distribution)')\n",
    "plt.title(f'Optimal Strategy Distribution (Game Value: {v.varValue:.2f})')\n",
    "plt.grid(axis='y')\n",
    "plt.show()"
   ]
  },
  {
   "cell_type": "code",
   "execution_count": null,
   "id": "46039f5d",
   "metadata": {},
   "outputs": [],
   "source": []
  }
 ],
 "metadata": {
  "kernelspec": {
   "display_name": "Python (py310lin)",
   "language": "python",
   "name": "your_environment_name"
  },
  "language_info": {
   "codemirror_mode": {
    "name": "ipython",
    "version": 3
   },
   "file_extension": ".py",
   "mimetype": "text/x-python",
   "name": "python",
   "nbconvert_exporter": "python",
   "pygments_lexer": "ipython3",
   "version": "3.10.16"
  }
 },
 "nbformat": 4,
 "nbformat_minor": 5
}
