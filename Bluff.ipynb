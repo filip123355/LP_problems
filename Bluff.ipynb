{
 "cells": [
  {
   "cell_type": "code",
   "execution_count": 10,
   "id": "f2cb7170",
   "metadata": {},
   "outputs": [
    {
     "name": "stdout",
     "output_type": "stream",
     "text": [
      "The autoreload extension is already loaded. To reload it, use:\n",
      "  %reload_ext autoreload\n"
     ]
    }
   ],
   "source": [
    "import numpy as np\n",
    "import pyscipopt \n",
    "import matplotlib.pyplot as plt\n",
    "import pickle as pkl\n",
    "import sys\n",
    "import os\n",
    "\n",
    "from bluff_lp.utils import convert_buffer_to_strategies\n",
    "from bluff_lp.constants import NUM_FACES, NUM_DICES\n",
    "%load_ext autoreload\n",
    "%autoreload 2"
   ]
  },
  {
   "cell_type": "markdown",
   "id": "acc11b2a",
   "metadata": {},
   "source": [
    "# Expected reward matrix"
   ]
  },
  {
   "cell_type": "code",
   "execution_count": 11,
   "id": "fe02cd04",
   "metadata": {},
   "outputs": [],
   "source": [
    "# A_1 = np.array([[0, 0, 0, 0, 0, 0, 0, 0, 0, 0, 0],\n",
    "#                 [0, 0, 0, 0, 0, 0, 0, 0, 0, 0, 0],\n",
    "#                 [0, 0, 0, 1, 0, 1, 1, 0, 0, 0, 0],\n",
    "#                 [0, 0, 0, 0, 0, 0, 0, 1, 0, 0, -1],\n",
    "#                 [1, 0, 0, 0, 0, 0, 0, 0, 0, 0, 0],\n",
    "#                 [0, 0, -1, 0, 0, 0, 0, 0, 0, 0, 0],\n",
    "#                 [0, 0, -1, 0, 1, 0, 0, 0, 0, 0, 0]]) \n",
    "\n",
    "# A_2 = np.array([[0, 0, 0, -1, 0, 0, 0, 0, 0, 0, 0],\n",
    "#                 [0, 0, 0, 1, 0, 1, 0, 0, 0, 0, 0],\n",
    "#                 [0, 0, 0, 0, 0, 0, 0, 0, 0, 0, 0],\n",
    "#                 [0, 0, 0, 0, 0, 0, 0, 0, 1, -1, 0],\n",
    "#                 [0, 0, 0, 0, 0, 0, 0, 0, 0, 0, 0],\n",
    "#                 [0, 1, 0, 0, 0, 0, 0, 0, 0, 0, 0],\n",
    "#                 [0, 0, 0, 0, 0, 0, 0, 0, 0, 0, 0]])\n",
    "\n",
    "# A_1 = np.array([[0, 0, 0, 0, 0, 0, 0, 0, 0, 0, 0, 0],\n",
    "#                 [0, 0, 0, 0, 0, 0, 0, 0, 0, 0, 0, 0],\n",
    "#                 [0, 0, 0, 0, 0, 0, 0, 0, 0, 0, 0, 0],\n",
    "#                 [0, 0, 0, 0, 1, 0, 1, 1, 0, 0, 0, 0],\n",
    "#                 [0, 0, 0, 0, 0, 0, 0, 0, 1, 0, 0, -1],\n",
    "#                 [0, 1, 0, 0, 0, 0, 0, 0, 0, 0, 0, 0],\n",
    "#                 [0, 0, 0, -1, 0, 0, 0, 0, 0, 0, 0, 0],\n",
    "#                 [0, 0, 0, -1, 0, 1, 0, 0, 0, 0, 0, 0]]) # Adding null path \n",
    "\n",
    "# A_2 = np.array([[0, 0, 0, 0, 0, 0, 0, 0, 0, 0, 0, 0],\n",
    "#                 [0, 0, 0, 0, -1, 0, 0, 0, 0, 0, 0, 0],\n",
    "#                 [0, 0, 0, 0, 1, 0, 1, 0, 0, 0, 0, 0],\n",
    "#                 [0, 0, 0, 0, 0, 0, 0, 0, 0, 0, 0, 0],\n",
    "#                 [0, 0, 0, 0, 0, 0, 0, 0, 0, 1, -1, 0],\n",
    "#                 [0, 0, 0, 0, 0, 0, 0, 0, 0, 0, 0, 0],\n",
    "#                 [0, 0, 1, 0, 0, 0, 0, 0, 0, 0, 0, 0],\n",
    "#                 [0, 0, 0, 0, 0, 0, 0, 0, 0, 0, 0, 0]])"
   ]
  },
  {
   "cell_type": "code",
   "execution_count": 12,
   "id": "c4b0b637",
   "metadata": {},
   "outputs": [],
   "source": [
    "# zeros_ = np.zeros_like(A_1)\n",
    "# A_1_extended = np.concatenate((A_1, zeros_))\n",
    "# A_2_extended = np.concatenate((zeros_, A_2))\n",
    "# A = 1 /2 * np.concatenate((A_1_extended, A_2_extended), axis=1).T\n",
    "# A_r = A_1.T\n",
    "A = np.load(f\"bluff_lp/game_matrices/{NUM_DICES}_{NUM_FACES}f/({1},)_{NUM_FACES}.npy\")"
   ]
  },
  {
   "cell_type": "code",
   "execution_count": 13,
   "id": "98224459",
   "metadata": {},
   "outputs": [
    {
     "data": {
      "text/plain": [
       "<matplotlib.colorbar.Colorbar at 0x7f2849db4440>"
      ]
     },
     "execution_count": 13,
     "metadata": {},
     "output_type": "execute_result"
    },
    {
     "data": {
      "image/png": "[encoded data removed]",
      "text/plain": [
       "<Figure size 400x600 with 2 Axes>"
      ]
     },
     "metadata": {},
     "output_type": "display_data"
    }
   ],
   "source": [
    "plt.matshow(A)\n",
    "plt.colorbar()"
   ]
  },
  {
   "cell_type": "code",
   "execution_count": 15,
   "id": "abf738d8",
   "metadata": {},
   "outputs": [
    {
     "data": {
      "text/plain": [
       "1.0"
      ]
     },
     "execution_count": 15,
     "metadata": {},
     "output_type": "execute_result"
    }
   ],
   "source": [
    "np.sum(A)"
   ]
  },
  {
   "cell_type": "code",
   "execution_count": 16,
   "id": "cfc89bfc",
   "metadata": {},
   "outputs": [],
   "source": [
    "A_ = A[1:, 1:]"
   ]
  },
  {
   "cell_type": "code",
   "execution_count": 17,
   "id": "27ed8c47",
   "metadata": {},
   "outputs": [
    {
     "data": {
      "text/plain": [
       "array([-1.,  0.,  0.,  0.,  0.,  0.,  1.,  0.,  0.,  0.,  0.])"
      ]
     },
     "execution_count": 17,
     "metadata": {},
     "output_type": "execute_result"
    }
   ],
   "source": [
    "A_[:,0]"
   ]
  },
  {
   "cell_type": "code",
   "execution_count": 18,
   "id": "430f51cd",
   "metadata": {},
   "outputs": [
    {
     "data": {
      "text/plain": [
       "array([ 0.,  0.,  0.,  0.,  0., -1.,  0.,  0., -1.,  0.,  0.])"
      ]
     },
     "execution_count": 18,
     "metadata": {},
     "output_type": "execute_result"
    }
   ],
   "source": [
    "A_[:, 3]"
   ]
  },
  {
   "cell_type": "code",
   "execution_count": 19,
   "id": "51da396d",
   "metadata": {},
   "outputs": [
    {
     "data": {
      "text/plain": [
       "(12, 8)"
      ]
     },
     "execution_count": 19,
     "metadata": {},
     "output_type": "execute_result"
    }
   ],
   "source": [
    "A.shape"
   ]
  },
  {
   "cell_type": "markdown",
   "id": "6b2ebb14",
   "metadata": {},
   "source": [
    "## Buffers"
   ]
  },
  {
   "cell_type": "code",
   "execution_count": 20,
   "id": "957e5ce6",
   "metadata": {},
   "outputs": [],
   "source": [
    "with open(f\"bluff_lp/buffers/1_{NUM_FACES}f/x_buffer.pkl\", \"rb\") as f:\n",
    "    x_buffer = pkl.load(f)\n",
    "with open(f\"bluff_lp/buffers/1_{NUM_FACES}f/y_buffer.pkl\", \"rb\") as f:\n",
    "    y_buffer = pkl.load(f)"
   ]
  },
  {
   "cell_type": "code",
   "execution_count": 21,
   "id": "afae4d5e",
   "metadata": {},
   "outputs": [],
   "source": [
    "x_strategies, y_startegies = convert_buffer_to_strategies(\n",
    "    num_dices=NUM_DICES, num_faces=NUM_FACES)"
   ]
  },
  {
   "cell_type": "code",
   "execution_count": 22,
   "id": "e3bcb9ac",
   "metadata": {},
   "outputs": [
    {
     "data": {
      "text/plain": [
       "{1: [(2, 2)],\n",
       " 2: [(2, 1)],\n",
       " 3: [(2, 1), 'Bluff'],\n",
       " 4: [(1, 2)],\n",
       " 5: [(1, 2), 'Bluff'],\n",
       " 6: [(1, 2), (2, 2)],\n",
       " 7: [(1, 1)],\n",
       " 8: [(1, 1), 'Bluff'],\n",
       " 9: [(1, 1), (2, 2)],\n",
       " 10: [(1, 1), (2, 1)],\n",
       " 11: [(1, 1), (2, 1), 'Bluff']}"
      ]
     },
     "execution_count": 22,
     "metadata": {},
     "output_type": "execute_result"
    }
   ],
   "source": [
    "x_strategies"
   ]
  },
  {
   "cell_type": "code",
   "execution_count": 23,
   "id": "ab963806",
   "metadata": {},
   "outputs": [
    {
     "data": {
      "text/plain": [
       "{1: ['Bluff'],\n",
       " 2: [(2, 2)],\n",
       " 3: [(2, 1)],\n",
       " 4: [(2, 1), 'Bluff'],\n",
       " 5: [(1, 2)],\n",
       " 6: [(1, 2), 'Bluff'],\n",
       " 7: [(1, 2), (2, 2)]}"
      ]
     },
     "execution_count": 23,
     "metadata": {},
     "output_type": "execute_result"
    }
   ],
   "source": [
    "y_startegies"
   ]
  },
  {
   "cell_type": "code",
   "execution_count": 24,
   "id": "94654a5d",
   "metadata": {},
   "outputs": [
    {
     "ename": "NameError",
     "evalue": "name 'x_' is not defined",
     "output_type": "error",
     "traceback": [
      "\u001b[31m---------------------------------------------------------------------------\u001b[39m",
      "\u001b[31mNameError\u001b[39m                                 Traceback (most recent call last)",
      "\u001b[36mCell\u001b[39m\u001b[36m \u001b[39m\u001b[32mIn[24]\u001b[39m\u001b[32m, line 1\u001b[39m\n\u001b[32m----> \u001b[39m\u001b[32m1\u001b[39m \u001b[43mx_\u001b[49m @ A_ @ y_\n",
      "\u001b[31mNameError\u001b[39m: name 'x_' is not defined"
     ]
    }
   ],
   "source": [
    "x_ @ A_ @ y_"
   ]
  },
  {
   "cell_type": "code",
   "execution_count": 25,
   "id": "ee015620",
   "metadata": {},
   "outputs": [
    {
     "ename": "NameError",
     "evalue": "name 'x_' is not defined",
     "output_type": "error",
     "traceback": [
      "\u001b[31m---------------------------------------------------------------------------\u001b[39m",
      "\u001b[31mNameError\u001b[39m                                 Traceback (most recent call last)",
      "\u001b[36mCell\u001b[39m\u001b[36m \u001b[39m\u001b[32mIn[25]\u001b[39m\u001b[32m, line 1\u001b[39m\n\u001b[32m----> \u001b[39m\u001b[32m1\u001b[39m row_impostor = np.zeros_like(\u001b[43mx_\u001b[49m)\n\u001b[32m      2\u001b[39m row_impostor[-\u001b[32m1\u001b[39m] = \u001b[32m1\u001b[39m\n\u001b[32m      3\u001b[39m row_impostor @ A_ @ y_\n",
      "\u001b[31mNameError\u001b[39m: name 'x_' is not defined"
     ]
    }
   ],
   "source": [
    "row_impostor = np.zeros_like(x_)\n",
    "row_impostor[-1] = 1\n",
    "row_impostor @ A_ @ y_"
   ]
  },
  {
   "cell_type": "markdown",
   "id": "ad849c27",
   "metadata": {},
   "source": [
    "## Constraints"
   ]
  },
  {
   "cell_type": "code",
   "execution_count": 26,
   "id": "03e071f3",
   "metadata": {},
   "outputs": [],
   "source": [
    "E = np.load(F\"bluff_lp/game_constraints/1_{NUM_FACES}f/x.npy\")\n",
    "F = np.load(F\"bluff_lp/game_constraints/1_{NUM_FACES}f/y.npy\")"
   ]
  },
  {
   "cell_type": "code",
   "execution_count": 27,
   "id": "4eaabd81",
   "metadata": {},
   "outputs": [
    {
     "data": {
      "text/plain": [
       "<matplotlib.colorbar.Colorbar at 0x7f28493fbaa0>"
      ]
     },
     "execution_count": 27,
     "metadata": {},
     "output_type": "execute_result"
    },
    {
     "data": {
      "image/png": "[encoded data removed]",
      "text/plain": [
       "<Figure size 960x480 with 2 Axes>"
      ]
     },
     "metadata": {},
     "output_type": "display_data"
    }
   ],
   "source": [
    "plt.matshow(E)\n",
    "plt.colorbar()"
   ]
  },
  {
   "cell_type": "code",
   "execution_count": 28,
   "id": "0d2a594f",
   "metadata": {},
   "outputs": [
    {
     "data": {
      "text/plain": [
       "<matplotlib.image.AxesImage at 0x7f2849246660>"
      ]
     },
     "execution_count": 28,
     "metadata": {},
     "output_type": "execute_result"
    },
    {
     "data": {
      "image/png": "[encoded data removed]",
      "text/plain": [
       "<Figure size 960x480 with 1 Axes>"
      ]
     },
     "metadata": {},
     "output_type": "display_data"
    }
   ],
   "source": [
    "plt.matshow(F)"
   ]
  },
  {
   "cell_type": "markdown",
   "id": "44e999fa",
   "metadata": {},
   "source": [
    "# Network flow constraints"
   ]
  },
  {
   "cell_type": "code",
   "execution_count": 24,
   "id": "774766ef",
   "metadata": {},
   "outputs": [],
   "source": [
    "# E = np.array([[1, 0, 0, 0, 0, 0, 0, 0, 0, 0, 0, 0],\n",
    "#               [-1, 0, 0, 0, 0, 0, 0, 0, 1, 1, 1, 1],\n",
    "#               [0, 0, 1, 1, 1, 0, 0, 0, -1, 0, 0, 0],\n",
    "#               [0, 1, -1, 0, 0, 0, 0, 0, 0, 0, 0, 0],\n",
    "#               [0, 0, 0, 0, 0, 1, 1, 0, 0, -1, 0, 0], \n",
    "#               [0, 0, 0, 0, 0, 0, 0, 1, 0, 0, -1, 0]])\n",
    "\n",
    "# # E = np.array([[0, 1, 1, 1, 0, 0, 0, -1, 0, 0, 0],\n",
    "# #               [1, -1, 0, 0, 0, 0, 0, 0, 0, 0, 0],\n",
    "# #               [0, 0, 0, 0, 1, 1, 0, 0, -1, 0, 0], \n",
    "# #               [0, 0, 0, 0, 0, 0, 1, 0, 0, -1, 0]])\n",
    "k, m = E.shape\n",
    "\n",
    "e = np.zeros((k, 1))\n",
    "e[0] = 1.0\n",
    "# e = np.array([[0], [0], [0], [0],]) \n",
    "\n",
    "# zeros_e = np.zeros_like(E)\n",
    "# E_ext_1 = np.concatenate((E, zeros_e))\n",
    "# E_ext_2 = np.concatenate((zeros_e, E))\n",
    "# E = np.concatenate((E_ext_1, E_ext_2), axis=1)\n",
    "\n",
    "# e = np.concatenate((e, e))"
   ]
  },
  {
   "cell_type": "code",
   "execution_count": 29,
   "id": "8282f606",
   "metadata": {},
   "outputs": [],
   "source": [
    "A_ = A[1:, 1:]\n",
    "x = np.load(f\"bluff_lp/solutions/{NUM_DICES}_{NUM_FACES}/strategy_{1}_{NUM_FACES}.npy\")\n",
    "y = np.load(f\"bluff_lp/solutions/{NUM_DICES}_{NUM_FACES}/strategy_{1}_{NUM_FACES}_dual.npy\")"
   ]
  },
  {
   "cell_type": "code",
   "execution_count": 30,
   "id": "ef069002",
   "metadata": {},
   "outputs": [],
   "source": [
    "x_, y_ = x[1:], y[1:]"
   ]
  },
  {
   "cell_type": "code",
   "execution_count": 55,
   "id": "d31eb98f",
   "metadata": {},
   "outputs": [
    {
     "data": {
      "text/plain": [
       "array([0., 0., 0., 0., 0., 0., 0., 0., 0., 0., 0., 0., 1., 0., 0., 0., 0.,\n",
       "       1., 1., 0.])"
      ]
     },
     "execution_count": 55,
     "metadata": {},
     "output_type": "execute_result"
    }
   ],
   "source": [
    "y_"
   ]
  },
  {
   "cell_type": "code",
   "execution_count": 56,
   "id": "4667f5b6",
   "metadata": {},
   "outputs": [
    {
     "data": {
      "text/plain": [
       "0.3333333333333333"
      ]
     },
     "execution_count": 56,
     "metadata": {},
     "output_type": "execute_result"
    }
   ],
   "source": [
    "x_ @ A_ @ y_"
   ]
  },
  {
   "cell_type": "code",
   "execution_count": 32,
   "id": "0bc6b173",
   "metadata": {},
   "outputs": [
    {
     "data": {
      "text/plain": [
       "{1: ['Bluff'],\n",
       " 2: [(2, 3)],\n",
       " 3: [(2, 2)],\n",
       " 4: [(2, 2), 'Bluff'],\n",
       " 5: [(2, 1)],\n",
       " 6: [(2, 1), 'Bluff'],\n",
       " 7: [(2, 1), (2, 3)],\n",
       " 8: [(1, 3)],\n",
       " 9: [(1, 3), 'Bluff'],\n",
       " 10: [(1, 3), (2, 3)],\n",
       " 11: [(1, 3), (2, 2)],\n",
       " 12: [(1, 3), (2, 2), 'Bluff'],\n",
       " 13: [(1, 2)],\n",
       " 14: [(1, 2), 'Bluff'],\n",
       " 15: [(1, 2), (2, 3)],\n",
       " 16: [(1, 2), (2, 2)],\n",
       " 17: [(1, 2), (2, 2), 'Bluff'],\n",
       " 18: [(1, 2), (2, 1)],\n",
       " 19: [(1, 2), (2, 1), 'Bluff'],\n",
       " 20: [(1, 2), (2, 1), (2, 3)]}"
      ]
     },
     "execution_count": 32,
     "metadata": {},
     "output_type": "execute_result"
    }
   ],
   "source": [
    "y_startegies"
   ]
  },
  {
   "cell_type": "code",
   "execution_count": 33,
   "id": "f8673dc1",
   "metadata": {},
   "outputs": [
    {
     "data": {
      "text/plain": [
       "{1: [(2, 3)],\n",
       " 2: [(2, 2)],\n",
       " 3: [(2, 2), 'Bluff'],\n",
       " 4: [(2, 1)],\n",
       " 5: [(2, 1), 'Bluff'],\n",
       " 6: [(2, 1), (2, 3)],\n",
       " 7: [(1, 3)],\n",
       " 8: [(1, 3), 'Bluff'],\n",
       " 9: [(1, 3), (2, 3)],\n",
       " 10: [(1, 3), (2, 2)],\n",
       " 11: [(1, 3), (2, 2), 'Bluff'],\n",
       " 12: [(1, 2)],\n",
       " 13: [(1, 2), 'Bluff'],\n",
       " 14: [(1, 2), (2, 3)],\n",
       " 15: [(1, 2), (2, 2)],\n",
       " 16: [(1, 2), (2, 2), 'Bluff'],\n",
       " 17: [(1, 2), (2, 1)],\n",
       " 18: [(1, 2), (2, 1), 'Bluff'],\n",
       " 19: [(1, 2), (2, 1), (2, 3)],\n",
       " 20: [(1, 1)],\n",
       " 21: [(1, 1), 'Bluff'],\n",
       " 22: [(1, 1), (2, 3)],\n",
       " 23: [(1, 1), (2, 2)],\n",
       " 24: [(1, 1), (2, 2), 'Bluff'],\n",
       " 25: [(1, 1), (2, 1)],\n",
       " 26: [(1, 1), (2, 1), 'Bluff'],\n",
       " 27: [(1, 1), (2, 1), (2, 3)],\n",
       " 28: [(1, 1), (1, 3)],\n",
       " 29: [(1, 1), (1, 3), 'Bluff'],\n",
       " 30: [(1, 1), (1, 3), (2, 3)],\n",
       " 31: [(1, 1), (1, 3), (2, 2)],\n",
       " 32: [(1, 1), (1, 3), (2, 2), 'Bluff']}"
      ]
     },
     "execution_count": 33,
     "metadata": {},
     "output_type": "execute_result"
    }
   ],
   "source": [
    "x_strategies"
   ]
  },
  {
   "cell_type": "code",
   "execution_count": 34,
   "id": "933e78b1",
   "metadata": {},
   "outputs": [
    {
     "data": {
      "text/plain": [
       "32"
      ]
     },
     "execution_count": 34,
     "metadata": {},
     "output_type": "execute_result"
    }
   ],
   "source": [
    "len(x_)"
   ]
  },
  {
   "cell_type": "code",
   "execution_count": 35,
   "id": "48619f38",
   "metadata": {},
   "outputs": [
    {
     "name": "stdout",
     "output_type": "stream",
     "text": [
      "(14, 33)\n"
     ]
    }
   ],
   "source": [
    "print(E.shape)"
   ]
  },
  {
   "cell_type": "code",
   "execution_count": 36,
   "id": "662b47e0",
   "metadata": {},
   "outputs": [],
   "source": [
    "# F = np.array([[1, 0, 0, 0, 0, 0, 0, 0], \n",
    "#               [-1, 1, 1, 1, 1, 0, 0, 0],\n",
    "#               [0, -1, 0, 0, 0, 1, 1, 0], \n",
    "#               [0, 0, -1, 0, 0, 0, 0, 1]])\n",
    "# # F = np.array([[-1, 0, 0, 0, 1, 1, 0], \n",
    "# #               [0, -1, 0, 0, 0, 0, 1]])\n",
    "o, n = F.shape\n",
    "\n",
    "# f = np.array([[0], [0]])\n",
    "# f = np.array([[1], [0], [0], [0]])\n",
    "f = np.zeros((o, 1))\n",
    "f[0] = 1.0 \n",
    "\n",
    "# zeros_f = np.zeros_like(F)\n",
    "# F_ext_1 = np.concatenate((F, zeros_f))\n",
    "# F_ext_2 = np.concatenate((zeros_f, F))\n",
    "# F = np.concatenate((F_ext_1, F_ext_2), axis=1)\n",
    "\n",
    "# f = np.concatenate((f, f))"
   ]
  },
  {
   "cell_type": "code",
   "execution_count": 37,
   "id": "62c233f8",
   "metadata": {},
   "outputs": [
    {
     "data": {
      "text/plain": [
       "(9, 21)"
      ]
     },
     "execution_count": 37,
     "metadata": {},
     "output_type": "execute_result"
    }
   ],
   "source": [
    "F.shape"
   ]
  },
  {
   "cell_type": "code",
   "execution_count": 38,
   "id": "0acd92e0",
   "metadata": {},
   "outputs": [],
   "source": [
    "# E = np.array([\n",
    "#             [1, 0, 0, 0, 0, 0, 0, 0, 0, 0, 0, 0, 0, 0, 0, 0, 0, 0, 0, 0, 0, 0, 0, 0],\n",
    "#             [0, 1, 0, 0, 0, 0, 0, 0, 0, 0, 0, 0, 0, 0, 0, 0, 0, 0, 0, 0, 0, 0, 0, 0],\n",
    "#             [-1, 0, 0, 0, 0, 0, 0, 0, 0, 0 ,0, 0 ,0, 0 ,0 ,0, 0, 0, 0, 0, 1, 1, 1, 1],\n",
    "#             [0, -1, 0, 0, 0, 0, 0, 0, 1, 1 , 1, 1 ,0, 0 ,0 ,0, 0, 0, 0, 0, 0, 0, 0, 0],\n",
    "#             [0, 0, 0, 1, 1, 1, 0, 0, 0, -1, 0, 0, 0, 0, 1, 1, 1, 0, 0, 0, -1, 0, 0, 0],\n",
    "#             [0, 0, 0, 1, 1, 1, 0, 0, 0, -1, 0, 0, 0, 0, 1, 1, 1, 0, 0, 0, -1, 0, 0, 0],\n",
    "#             [0, 0, 0, 0, 0, 0, 1, 1, 0, 0, -1, 0, 0, 0, 0, 0, 0, 1, 1, 0, 0, -1, 0, 0], \n",
    "#             [0, 0, 0, 0, 0, 0, 0, 0, 1, 0, 0, -1, 0, 0, 0, 0, 0, 0, 0, 1, 0, 0, -1, 0],\n",
    "#             ])\n",
    "# _, m = E.shape\n",
    "\n",
    "# e = np.array([[1], [1], [0], [0], [0], [0], [0], [0]]) / 2"
   ]
  },
  {
   "cell_type": "code",
   "execution_count": 39,
   "id": "66b623e7",
   "metadata": {},
   "outputs": [],
   "source": [
    "# F = np.array([\n",
    "#             [1, 0, 0, 0, 0, 0, 0, 0, 0, 0, 0, 0, 0, 0, 0, 0], \n",
    "#             [0, 1, 0, 0, 0, 0, 0, 0, 0, 0, 0, 0, 0, 0, 0, 0], \n",
    "#             [-1, 0, 1, 1, 1, 1, 0, 0, 0, 0, 0, 0, 0, 0, 0, 0], \n",
    "#             [0, -1, 0, 0, 0, 0, 0, 0, 0, 1, 1, 1, 1, 0, 0, 0], \n",
    "#             [0, 0, -1, 0, 0, 0, 1, 1, 0, -1, 0, 0, 0, 1, 1, 0], \n",
    "#             [0, 0, 0, -1, 0, 0, 0, 0, 1, 0, -1, 0, 0, 0, 0, 1],\n",
    "#             ])\n",
    "# _, n = F.shape\n",
    "\n",
    "# f = np.array([[1], [1], [0], [0], [0], [0]]) / 2"
   ]
  },
  {
   "cell_type": "markdown",
   "id": "9bebee0a",
   "metadata": {},
   "source": [
    "# Building the model"
   ]
  },
  {
   "cell_type": "markdown",
   "id": "8de43e6e",
   "metadata": {},
   "source": [
    "## Variables"
   ]
  },
  {
   "cell_type": "code",
   "execution_count": 40,
   "id": "032411ec",
   "metadata": {},
   "outputs": [],
   "source": [
    "lp = pyscipopt.Model()\n",
    "x = {i: lp.addVar(f\"x[{i}]\", vtype=\"C\", lb=0.0, ub=1.0) for i in range(m)}\n",
    "q = {k: lp.addVar(f\"q[{k}]\", vtype=\"C\", lb=-lp.infinity(), ub=lp.infinity()) for k in range(f.shape[0])}"
   ]
  },
  {
   "cell_type": "markdown",
   "id": "0ca53625",
   "metadata": {},
   "source": [
    "## Objective"
   ]
  },
  {
   "cell_type": "code",
   "execution_count": 41,
   "id": "4ffb567c",
   "metadata": {},
   "outputs": [],
   "source": [
    "lp.setObjective(-pyscipopt.quicksum(e[k, 0] * q[k] for k in range(f.shape[0])))\n",
    "lp.setMaximize()"
   ]
  },
  {
   "cell_type": "markdown",
   "id": "5206a7be",
   "metadata": {},
   "source": [
    "## Constraints"
   ]
  },
  {
   "cell_type": "code",
   "execution_count": 42,
   "id": "487e390d",
   "metadata": {},
   "outputs": [],
   "source": [
    "for i in range(n):\n",
    "    lp.addCons(pyscipopt.quicksum(-A[j, i] * x[j] for j in range(m)) -\n",
    "               pyscipopt.quicksum(F[k, i] * q[k] for k in range(f.shape[0])) <= 0)\n",
    "\n",
    "for i in range(E.shape[0]):\n",
    "    lp.addCons(pyscipopt.quicksum(E.T[j, i] * x[j] for j in range(m)) == e[i, 0])"
   ]
  },
  {
   "cell_type": "markdown",
   "id": "3087251a",
   "metadata": {},
   "source": [
    "## Optimization"
   ]
  },
  {
   "cell_type": "code",
   "execution_count": 43,
   "id": "e0469bc9",
   "metadata": {},
   "outputs": [
    {
     "name": "stdout",
     "output_type": "stream",
     "text": [
      "presolving:\n",
      "(round 1, fast)       9 del vars, 13 del conss, 0 add conss, 9 chg bounds, 0 chg sides, 0 chg coeffs, 0 upgd conss, 0 impls, 0 clqs\n",
      "(round 2, fast)       11 del vars, 15 del conss, 0 add conss, 12 chg bounds, 0 chg sides, 0 chg coeffs, 0 upgd conss, 0 impls, 0 clqs\n",
      "(round 3, fast)       11 del vars, 15 del conss, 0 add conss, 13 chg bounds, 0 chg sides, 0 chg coeffs, 0 upgd conss, 0 impls, 0 clqs\n",
      "(round 4, fast)       11 del vars, 15 del conss, 0 add conss, 15 chg bounds, 0 chg sides, 0 chg coeffs, 0 upgd conss, 0 impls, 0 clqs\n",
      "(round 5, fast)       11 del vars, 15 del conss, 0 add conss, 16 chg bounds, 0 chg sides, 0 chg coeffs, 0 upgd conss, 0 impls, 0 clqs\n",
      "(round 6, fast)       12 del vars, 16 del conss, 0 add conss, 16 chg bounds, 0 chg sides, 0 chg coeffs, 0 upgd conss, 0 impls, 0 clqs\n",
      "(round 7, exhaustive) 12 del vars, 17 del conss, 0 add conss, 16 chg bounds, 1 chg sides, 0 chg coeffs, 0 upgd conss, 0 impls, 0 clqs\n",
      "(round 8, exhaustive) 24 del vars, 17 del conss, 0 add conss, 16 chg bounds, 1 chg sides, 0 chg coeffs, 0 upgd conss, 0 impls, 0 clqs\n",
      "(round 9, fast)       29 del vars, 25 del conss, 0 add conss, 16 chg bounds, 1 chg sides, 0 chg coeffs, 0 upgd conss, 0 impls, 0 clqs\n",
      "(round 10, fast)       31 del vars, 27 del conss, 0 add conss, 16 chg bounds, 1 chg sides, 0 chg coeffs, 0 upgd conss, 0 impls, 0 clqs\n",
      "(round 11, fast)       31 del vars, 27 del conss, 0 add conss, 17 chg bounds, 1 chg sides, 0 chg coeffs, 0 upgd conss, 0 impls, 0 clqs\n",
      "(round 12, exhaustive) 31 del vars, 29 del conss, 0 add conss, 17 chg bounds, 3 chg sides, 0 chg coeffs, 0 upgd conss, 0 impls, 0 clqs\n",
      "(round 13, exhaustive) 36 del vars, 29 del conss, 0 add conss, 17 chg bounds, 3 chg sides, 0 chg coeffs, 0 upgd conss, 0 impls, 0 clqs\n",
      "(round 14, fast)       38 del vars, 31 del conss, 0 add conss, 17 chg bounds, 3 chg sides, 0 chg coeffs, 0 upgd conss, 0 impls, 0 clqs\n",
      "(round 15, fast)       38 del vars, 31 del conss, 0 add conss, 18 chg bounds, 3 chg sides, 0 chg coeffs, 0 upgd conss, 0 impls, 0 clqs\n",
      "(round 16, exhaustive) 38 del vars, 32 del conss, 0 add conss, 18 chg bounds, 4 chg sides, 0 chg coeffs, 0 upgd conss, 0 impls, 0 clqs\n",
      "(round 17, exhaustive) 40 del vars, 32 del conss, 0 add conss, 18 chg bounds, 4 chg sides, 0 chg coeffs, 0 upgd conss, 0 impls, 0 clqs\n",
      "(round 18, fast)       41 del vars, 33 del conss, 0 add conss, 19 chg bounds, 4 chg sides, 0 chg coeffs, 0 upgd conss, 0 impls, 0 clqs\n",
      "   (0.0s) symmetry computation started: requiring (bin +, int +, cont +), (fixed: bin -, int -, cont -)\n",
      "   (0.0s) no symmetry present (symcode time: 0.00)\n",
      "presolving (19 rounds: 19 fast, 7 medium, 7 exhaustive):\n",
      " 41 deleted vars, 35 deleted constraints, 0 added constraints, 19 tightened bounds, 0 added holes, 4 changed sides, 0 changed coefficients\n",
      " 0 implications, 0 cliques\n",
      "presolved problem has 1 variables (0 bin, 0 int, 0 impl, 1 cont) and 0 constraints\n",
      "Presolving Time: 0.00\n",
      "\n",
      " time | node  | left  |LP iter|LP it/n|mem/heur|mdpt |vars |cons |rows |cuts |sepa|confs|strbr|  dualbound   | primalbound  |  gap   | compl. \n",
      "t 0.0s|     1 |     0 |     0 |     - | trivial|   0 |   1 |   0 |   0 |   0 |  0 |   0 |   0 | 3.333333e-01 | 3.333333e-01 |   0.00%| unknown\n",
      "\n",
      "SCIP Status        : problem is solved [optimal solution found]\n",
      "Solving Time (sec) : 0.03\n",
      "Solving Nodes      : 1\n",
      "Primal Bound       : +3.33333333333333e-01 (1 solutions)\n",
      "Dual Bound         : +3.33333333333333e-01\n",
      "Gap                : 0.00 %\n"
     ]
    }
   ],
   "source": [
    "lp.optimize()"
   ]
  },
  {
   "cell_type": "markdown",
   "id": "fb4d3f83",
   "metadata": {},
   "source": [
    "# Results"
   ]
  },
  {
   "cell_type": "code",
   "execution_count": 44,
   "id": "e03e7d33",
   "metadata": {},
   "outputs": [
    {
     "data": {
      "text/plain": [
       "{0: 1.0,\n",
       " 1: 0.0,\n",
       " 2: 0.0,\n",
       " 3: 0.0,\n",
       " 4: 0.0,\n",
       " 5: 0.0,\n",
       " 6: 0.0,\n",
       " 7: 0.0,\n",
       " 8: 0.0,\n",
       " 9: 0.0,\n",
       " 10: 0.0,\n",
       " 11: 0.0,\n",
       " 12: 0.0,\n",
       " 13: 0.0,\n",
       " 14: 0.0,\n",
       " 15: 0.0,\n",
       " 16: 0.0,\n",
       " 17: 0.0,\n",
       " 18: 0.0,\n",
       " 19: 0.0,\n",
       " 20: 1.0,\n",
       " 21: 1.0,\n",
       " 22: 0.0,\n",
       " 23: 0.0,\n",
       " 24: 0.0,\n",
       " 25: 0.0,\n",
       " 26: 0.0,\n",
       " 27: 0.0,\n",
       " 28: 0.0,\n",
       " 29: 0.0,\n",
       " 30: 0.0,\n",
       " 31: 0.0,\n",
       " 32: 0.0}"
      ]
     },
     "execution_count": 44,
     "metadata": {},
     "output_type": "execute_result"
    }
   ],
   "source": [
    "{i: lp.getVal(x[i]) for i in range(m)}"
   ]
  },
  {
   "cell_type": "code",
   "execution_count": 45,
   "id": "0911e322",
   "metadata": {},
   "outputs": [
    {
     "data": {
      "text/plain": [
       "{1: [(2, 3)],\n",
       " 2: [(2, 2)],\n",
       " 3: [(2, 2), 'Bluff'],\n",
       " 4: [(2, 1)],\n",
       " 5: [(2, 1), 'Bluff'],\n",
       " 6: [(2, 1), (2, 3)],\n",
       " 7: [(1, 3)],\n",
       " 8: [(1, 3), 'Bluff'],\n",
       " 9: [(1, 3), (2, 3)],\n",
       " 10: [(1, 3), (2, 2)],\n",
       " 11: [(1, 3), (2, 2), 'Bluff'],\n",
       " 12: [(1, 2)],\n",
       " 13: [(1, 2), 'Bluff'],\n",
       " 14: [(1, 2), (2, 3)],\n",
       " 15: [(1, 2), (2, 2)],\n",
       " 16: [(1, 2), (2, 2), 'Bluff'],\n",
       " 17: [(1, 2), (2, 1)],\n",
       " 18: [(1, 2), (2, 1), 'Bluff'],\n",
       " 19: [(1, 2), (2, 1), (2, 3)],\n",
       " 20: [(1, 1)],\n",
       " 21: [(1, 1), 'Bluff'],\n",
       " 22: [(1, 1), (2, 3)],\n",
       " 23: [(1, 1), (2, 2)],\n",
       " 24: [(1, 1), (2, 2), 'Bluff'],\n",
       " 25: [(1, 1), (2, 1)],\n",
       " 26: [(1, 1), (2, 1), 'Bluff'],\n",
       " 27: [(1, 1), (2, 1), (2, 3)],\n",
       " 28: [(1, 1), (1, 3)],\n",
       " 29: [(1, 1), (1, 3), 'Bluff'],\n",
       " 30: [(1, 1), (1, 3), (2, 3)],\n",
       " 31: [(1, 1), (1, 3), (2, 2)],\n",
       " 32: [(1, 1), (1, 3), (2, 2), 'Bluff']}"
      ]
     },
     "execution_count": 45,
     "metadata": {},
     "output_type": "execute_result"
    }
   ],
   "source": [
    "x_strategies"
   ]
  },
  {
   "cell_type": "code",
   "execution_count": 46,
   "id": "2ff64dbb",
   "metadata": {},
   "outputs": [],
   "source": [
    "strategy = np.array([lp.getVal(x[i]) for i in range(m)])"
   ]
  },
  {
   "cell_type": "markdown",
   "id": "dab46526",
   "metadata": {},
   "source": [
    "# Dual problem"
   ]
  },
  {
   "cell_type": "markdown",
   "id": "c40898d5",
   "metadata": {},
   "source": [
    "## Variables"
   ]
  },
  {
   "cell_type": "code",
   "execution_count": 47,
   "id": "d701d15b",
   "metadata": {},
   "outputs": [],
   "source": [
    "lp = pyscipopt.Model()\n",
    "y = {i: lp.addVar(f\"y[{i}]\", vtype=\"C\", lb=0.0, ub=1.0) for i in range(n)}\n",
    "p = {k: lp.addVar(f\"p[{k}]\", vtype=\"C\", lb=-lp.infinity(), ub=lp.infinity()) for k in range(e.shape[0])}"
   ]
  },
  {
   "cell_type": "markdown",
   "id": "5ad78844",
   "metadata": {},
   "source": [
    "## Objective"
   ]
  },
  {
   "cell_type": "code",
   "execution_count": 48,
   "id": "3e014114",
   "metadata": {},
   "outputs": [],
   "source": [
    "lp.setObjective(pyscipopt.quicksum(e[k, 0] * p[k] for k in range(e.shape[0])))\n",
    "lp.setMinimize()"
   ]
  },
  {
   "cell_type": "markdown",
   "id": "a3de78e2",
   "metadata": {},
   "source": [
    "## Constraints"
   ]
  },
  {
   "cell_type": "code",
   "execution_count": 49,
   "id": "5cc551dc",
   "metadata": {},
   "outputs": [],
   "source": [
    "for i in range(m):\n",
    "    lp.addCons(pyscipopt.quicksum(-A[i, j] * y[j] for j in range(n)) +\n",
    "               pyscipopt.quicksum(E[k, i] * p[k] for k in range(e.shape[0])) >= 0)\n",
    "\n",
    "for i in range(F.shape[0]):\n",
    "    lp.addCons(pyscipopt.quicksum(F[i, j] * y[j] for j in range(n)) == f[i, 0])"
   ]
  },
  {
   "cell_type": "markdown",
   "id": "d6fcc300",
   "metadata": {},
   "source": [
    "## Optimization"
   ]
  },
  {
   "cell_type": "code",
   "execution_count": 50,
   "id": "71f8b545",
   "metadata": {},
   "outputs": [
    {
     "name": "stdout",
     "output_type": "stream",
     "text": [
      "presolving:\n",
      "(round 1, fast)       9 del vars, 16 del conss, 0 add conss, 14 chg bounds, 0 chg sides, 0 chg coeffs, 0 upgd conss, 0 impls, 0 clqs\n",
      "(round 2, fast)       12 del vars, 19 del conss, 0 add conss, 17 chg bounds, 0 chg sides, 0 chg coeffs, 0 upgd conss, 0 impls, 0 clqs\n",
      "(round 3, fast)       12 del vars, 20 del conss, 0 add conss, 18 chg bounds, 0 chg sides, 0 chg coeffs, 0 upgd conss, 0 impls, 0 clqs\n",
      "(round 4, fast)       12 del vars, 20 del conss, 0 add conss, 21 chg bounds, 0 chg sides, 0 chg coeffs, 0 upgd conss, 0 impls, 0 clqs\n",
      "(round 5, fast)       12 del vars, 20 del conss, 0 add conss, 22 chg bounds, 0 chg sides, 0 chg coeffs, 0 upgd conss, 0 impls, 0 clqs\n",
      "(round 6, fast)       12 del vars, 20 del conss, 0 add conss, 23 chg bounds, 0 chg sides, 0 chg coeffs, 0 upgd conss, 0 impls, 0 clqs\n",
      "(round 7, fast)       13 del vars, 21 del conss, 0 add conss, 23 chg bounds, 0 chg sides, 0 chg coeffs, 0 upgd conss, 0 impls, 0 clqs\n",
      "(round 8, exhaustive) 13 del vars, 22 del conss, 0 add conss, 23 chg bounds, 1 chg sides, 0 chg coeffs, 0 upgd conss, 0 impls, 0 clqs\n",
      "(round 9, exhaustive) 20 del vars, 22 del conss, 0 add conss, 23 chg bounds, 1 chg sides, 0 chg coeffs, 0 upgd conss, 0 impls, 0 clqs\n",
      "(round 10, fast)       23 del vars, 31 del conss, 0 add conss, 23 chg bounds, 1 chg sides, 0 chg coeffs, 0 upgd conss, 0 impls, 0 clqs\n",
      "(round 11, fast)       26 del vars, 34 del conss, 0 add conss, 23 chg bounds, 1 chg sides, 0 chg coeffs, 0 upgd conss, 0 impls, 0 clqs\n",
      "(round 12, fast)       26 del vars, 34 del conss, 0 add conss, 24 chg bounds, 1 chg sides, 0 chg coeffs, 0 upgd conss, 0 impls, 0 clqs\n",
      "(round 13, fast)       26 del vars, 34 del conss, 0 add conss, 25 chg bounds, 1 chg sides, 0 chg coeffs, 0 upgd conss, 0 impls, 0 clqs\n",
      "(round 14, exhaustive) 26 del vars, 36 del conss, 0 add conss, 25 chg bounds, 3 chg sides, 0 chg coeffs, 0 upgd conss, 0 impls, 0 clqs\n",
      "(round 15, exhaustive) 28 del vars, 36 del conss, 0 add conss, 25 chg bounds, 3 chg sides, 0 chg coeffs, 0 upgd conss, 0 impls, 0 clqs\n",
      "(round 16, fast)       28 del vars, 36 del conss, 0 add conss, 26 chg bounds, 3 chg sides, 0 chg coeffs, 0 upgd conss, 0 impls, 0 clqs\n",
      "(round 17, fast)       28 del vars, 36 del conss, 0 add conss, 27 chg bounds, 3 chg sides, 0 chg coeffs, 0 upgd conss, 0 impls, 0 clqs\n",
      "   (0.0s) dualsparsify: 1 nonzeros canceled\n",
      "(round 18, exhaustive) 28 del vars, 36 del conss, 0 add conss, 27 chg bounds, 3 chg sides, 3 chg coeffs, 0 upgd conss, 0 impls, 0 clqs\n",
      "(round 19, fast)       29 del vars, 37 del conss, 0 add conss, 28 chg bounds, 3 chg sides, 3 chg coeffs, 0 upgd conss, 0 impls, 0 clqs\n",
      "(round 20, fast)       29 del vars, 37 del conss, 0 add conss, 29 chg bounds, 3 chg sides, 3 chg coeffs, 0 upgd conss, 0 impls, 0 clqs\n",
      "(round 21, fast)       29 del vars, 37 del conss, 0 add conss, 30 chg bounds, 3 chg sides, 3 chg coeffs, 0 upgd conss, 0 impls, 0 clqs\n",
      "(round 22, exhaustive) 30 del vars, 37 del conss, 0 add conss, 30 chg bounds, 3 chg sides, 3 chg coeffs, 0 upgd conss, 0 impls, 0 clqs\n",
      "(round 23, fast)       30 del vars, 38 del conss, 0 add conss, 30 chg bounds, 3 chg sides, 3 chg coeffs, 0 upgd conss, 0 impls, 0 clqs\n",
      "(round 24, fast)       31 del vars, 39 del conss, 0 add conss, 30 chg bounds, 3 chg sides, 3 chg coeffs, 0 upgd conss, 0 impls, 0 clqs\n",
      "   (0.0s) symmetry computation started: requiring (bin +, int +, cont +), (fixed: bin -, int -, cont -)\n",
      "   (0.0s) no symmetry present (symcode time: 0.00)\n",
      "presolving (25 rounds: 25 fast, 7 medium, 7 exhaustive):\n",
      " 31 deleted vars, 39 deleted constraints, 0 added constraints, 30 tightened bounds, 0 added holes, 3 changed sides, 3 changed coefficients\n",
      " 0 implications, 0 cliques\n",
      "presolved problem has 4 variables (0 bin, 0 int, 0 impl, 4 cont) and 3 constraints\n",
      "      3 constraints of type <linear>\n",
      "Presolving Time: 0.00\n",
      "\n",
      " time | node  | left  |LP iter|LP it/n|mem/heur|mdpt |vars |cons |rows |cuts |sepa|confs|strbr|  dualbound   | primalbound  |  gap   | compl. \n",
      "t 0.0s|     1 |     0 |     0 |     - | trivial|   0 |   4 |   3 |   0 |   0 |  0 |   0 |   0 | 0.000000e+00 | 1.000000e+00 |    Inf | unknown\n",
      "* 0.0s|     1 |     0 |     2 |     - |    LP  |   0 |   4 |   3 |   3 |   0 |  0 |   0 |   0 | 3.333333e-01 | 3.333333e-01 |   0.00%| unknown\n",
      "  0.0s|     1 |     0 |     2 |     - |   776k |   0 |   4 |   3 |   3 |   0 |  0 |   0 |   0 | 3.333333e-01 | 3.333333e-01 |   0.00%| unknown\n",
      "\n",
      "SCIP Status        : problem is solved [optimal solution found]\n",
      "Solving Time (sec) : 0.02\n",
      "Solving Nodes      : 1\n",
      "Primal Bound       : +3.33333333333333e-01 (2 solutions)\n",
      "Dual Bound         : +3.33333333333333e-01\n",
      "Gap                : 0.00 %\n"
     ]
    }
   ],
   "source": [
    "lp.optimize()"
   ]
  },
  {
   "cell_type": "markdown",
   "id": "8b062b0f",
   "metadata": {},
   "source": [
    "## Results"
   ]
  },
  {
   "cell_type": "code",
   "execution_count": 51,
   "id": "559a4914",
   "metadata": {},
   "outputs": [
    {
     "data": {
      "text/plain": [
       "{0: 1.0,\n",
       " 1: 0.0,\n",
       " 2: 0.0,\n",
       " 3: 0.0,\n",
       " 4: 0.0,\n",
       " 5: 0.0,\n",
       " 6: 0.0,\n",
       " 7: 0.0,\n",
       " 8: 0.0,\n",
       " 9: 0.0,\n",
       " 10: 0.0,\n",
       " 11: 0.0,\n",
       " 12: 0.0,\n",
       " 13: 1.0,\n",
       " 14: 0.0,\n",
       " 15: 0.0,\n",
       " 16: 0.0,\n",
       " 17: 0.0,\n",
       " 18: 1.0,\n",
       " 19: 1.0,\n",
       " 20: 0.0}"
      ]
     },
     "execution_count": 51,
     "metadata": {},
     "output_type": "execute_result"
    }
   ],
   "source": [
    "{i: lp.getVal(y[i]) for i in range(n)}"
   ]
  },
  {
   "cell_type": "code",
   "execution_count": 52,
   "id": "9320210d",
   "metadata": {},
   "outputs": [
    {
     "data": {
      "text/plain": [
       "{1: ['Bluff'],\n",
       " 2: [(2, 3)],\n",
       " 3: [(2, 2)],\n",
       " 4: [(2, 2), 'Bluff'],\n",
       " 5: [(2, 1)],\n",
       " 6: [(2, 1), 'Bluff'],\n",
       " 7: [(2, 1), (2, 3)],\n",
       " 8: [(1, 3)],\n",
       " 9: [(1, 3), 'Bluff'],\n",
       " 10: [(1, 3), (2, 3)],\n",
       " 11: [(1, 3), (2, 2)],\n",
       " 12: [(1, 3), (2, 2), 'Bluff'],\n",
       " 13: [(1, 2)],\n",
       " 14: [(1, 2), 'Bluff'],\n",
       " 15: [(1, 2), (2, 3)],\n",
       " 16: [(1, 2), (2, 2)],\n",
       " 17: [(1, 2), (2, 2), 'Bluff'],\n",
       " 18: [(1, 2), (2, 1)],\n",
       " 19: [(1, 2), (2, 1), 'Bluff'],\n",
       " 20: [(1, 2), (2, 1), (2, 3)]}"
      ]
     },
     "execution_count": 52,
     "metadata": {},
     "output_type": "execute_result"
    }
   ],
   "source": [
    "y_startegies"
   ]
  },
  {
   "cell_type": "code",
   "execution_count": null,
   "id": "cb739e79",
   "metadata": {},
   "outputs": [],
   "source": []
  }
 ],
 "metadata": {
  "kernelspec": {
   "display_name": "venv",
   "language": "python",
   "name": "python3"
  },
  "language_info": {
   "codemirror_mode": {
    "name": "ipython",
    "version": 3
   },
   "file_extension": ".py",
   "mimetype": "text/x-python",
   "name": "python",
   "nbconvert_exporter": "python",
   "pygments_lexer": "ipython3",
   "version": "3.12.9"
  }
 },
 "nbformat": 4,
 "nbformat_minor": 5
}
