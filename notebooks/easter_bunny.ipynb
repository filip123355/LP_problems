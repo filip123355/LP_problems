{
 "cells": [
  {
   "cell_type": "code",
   "execution_count": 1,
   "id": "673386fe",
   "metadata": {},
   "outputs": [],
   "source": [
    "import itertools\n",
    "import matplotlib.pyplot as plt \n",
    "import pulp"
   ]
  },
  {
   "cell_type": "markdown",
   "id": "eeb2e3a0",
   "metadata": {},
   "source": [
    "## Strategies"
   ]
  },
  {
   "cell_type": "code",
   "execution_count": 2,
   "id": "397545bf",
   "metadata": {},
   "outputs": [],
   "source": [
    "santa = [\"rock\", \"paper\", \"scissors\"]\n",
    "bunny = [\"rock\", \"paper\"]"
   ]
  },
  {
   "cell_type": "code",
   "execution_count": 3,
   "id": "023ac790",
   "metadata": {},
   "outputs": [],
   "source": [
    "payoff = [\n",
    "    [0, 1],\n",
    "    [-1, 0],\n",
    "    [1, -1],\n",
    "]"
   ]
  },
  {
   "cell_type": "markdown",
   "id": "b688a8e1",
   "metadata": {},
   "source": [
    "## Solver"
   ]
  },
  {
   "cell_type": "code",
   "execution_count": null,
   "id": "5bbc25ee",
   "metadata": {},
   "outputs": [],
   "source": [
    "prob_vars = [pulp.LpVariable(f\"p_{i}\", lowBound=0) for i in range(len(bunny))]\n",
    "v = pulp.LpVariable(\"v\") "
   ]
  },
  {
   "cell_type": "code",
   "execution_count": 9,
   "id": "d4777b31",
   "metadata": {},
   "outputs": [
    {
     "data": {
      "text/plain": [
       "[p_0, p_1]"
      ]
     },
     "execution_count": 9,
     "metadata": {},
     "output_type": "execute_result"
    }
   ],
   "source": [
    "prob_vars"
   ]
  },
  {
   "cell_type": "code",
   "execution_count": 25,
   "id": "23721478",
   "metadata": {},
   "outputs": [],
   "source": [
    "prob = pulp.LpProblem(\"Bunny_vs_Santa\", pulp.LpMinimize)"
   ]
  },
  {
   "cell_type": "code",
   "execution_count": 26,
   "id": "71b9c201",
   "metadata": {},
   "outputs": [],
   "source": [
    "prob += v"
   ]
  },
  {
   "cell_type": "code",
   "execution_count": 27,
   "id": "04960d5f",
   "metadata": {},
   "outputs": [],
   "source": [
    "for santa_move in range(len(santa)):\n",
    "    payoff_expr = 0\n",
    "    for bunny_move in range(len(bunny)):\n",
    "        payoff_expr -= payoff[santa_move][bunny_move] * prob_vars[bunny_move]\n",
    "    prob += (payoff_expr <= v)\n",
    "    \n",
    "prob += (pulp.lpSum(prob_vars) == 1)\n",
    "prob += (prob_vars[0] >= 0)\n",
    "prob += (prob_vars[1] >= 0)"
   ]
  },
  {
   "cell_type": "code",
   "execution_count": 28,
   "id": "4cf26511",
   "metadata": {},
   "outputs": [
    {
     "data": {
      "text/plain": [
       "Bunny_vs_Santa:\n",
       "MINIMIZE\n",
       "1*v + 0\n",
       "SUBJECT TO\n",
       "_C1: - p_1 - v <= 0\n",
       "\n",
       "_C2: p_0 - v <= 0\n",
       "\n",
       "_C3: - p_0 + p_1 - v <= 0\n",
       "\n",
       "_C4: p_0 + p_1 = 1\n",
       "\n",
       "_C5: p_0 >= 0\n",
       "\n",
       "_C6: p_1 >= 0\n",
       "\n",
       "VARIABLES\n",
       "p_0 Continuous\n",
       "p_1 Continuous\n",
       "v free Continuous"
      ]
     },
     "execution_count": 28,
     "metadata": {},
     "output_type": "execute_result"
    }
   ],
   "source": [
    "prob"
   ]
  },
  {
   "cell_type": "code",
   "execution_count": 29,
   "id": "f7648ec0",
   "metadata": {},
   "outputs": [
    {
     "name": "stdout",
     "output_type": "stream",
     "text": [
      "Welcome to the CBC MILP Solver \n",
      "Version: 2.10.3 \n",
      "Build Date: Dec 15 2019 \n",
      "\n",
      "command line - /root/miniconda3/envs/py310lin/lib/python3.10/site-packages/pulp/apis/../solverdir/cbc/linux/i64/cbc /tmp/17c2dbebf277482e90d51e40b77d79eb-pulp.mps -timeMode elapsed -branch -printingOptions all -solution /tmp/17c2dbebf277482e90d51e40b77d79eb-pulp.sol (default strategy 1)\n",
      "At line 2 NAME          MODEL\n",
      "At line 3 ROWS\n",
      "At line 11 COLUMNS\n",
      "At line 24 RHS\n",
      "At line 31 BOUNDS\n",
      "At line 33 ENDATA\n",
      "Problem MODEL has 6 rows, 3 columns and 11 elements\n",
      "Coin0008I MODEL read with 0 errors\n",
      "Option for timeMode changed from cpu to elapsed\n",
      "Presolve 2 (-4) rows, 2 (-1) columns and 4 (-7) elements\n",
      "0  Obj -0.1 Primal inf 1.199998 (2)\n",
      "2  Obj 0.33333333\n",
      "Optimal - objective value 0.33333333\n",
      "After Postsolve, objective 0.33333333, infeasibilities - dual 0 (0), primal 0 (0)\n",
      "Optimal objective 0.3333333333 - 2 iterations time 0.002, Presolve 0.00\n",
      "Option for printingOptions changed from normal to all\n",
      "Total time (CPU seconds):       0.00   (Wallclock seconds):       0.00\n",
      "\n"
     ]
    },
    {
     "data": {
      "text/plain": [
       "1"
      ]
     },
     "execution_count": 29,
     "metadata": {},
     "output_type": "execute_result"
    }
   ],
   "source": [
    "prob.solve()"
   ]
  },
  {
   "cell_type": "markdown",
   "id": "42e71de4",
   "metadata": {},
   "source": [
    "## Results"
   ]
  },
  {
   "cell_type": "code",
   "execution_count": 30,
   "id": "5263a276",
   "metadata": {},
   "outputs": [
    {
     "name": "stdout",
     "output_type": "stream",
     "text": [
      "rock: probability 0.3333\n",
      "paper: probability 0.6667\n",
      "Game value (expected points): 0.33333333\n"
     ]
    }
   ],
   "source": [
    "for var in prob_vars:\n",
    "    print(f\"{bunny[int(var.name.split('_')[1])]}: probability {var.varValue:.4f}\")\n",
    "print(\"Game value (expected points):\", v.varValue)"
   ]
  },
  {
   "cell_type": "code",
   "execution_count": 31,
   "id": "26587a20",
   "metadata": {},
   "outputs": [
    {
     "data": {
      "image/png": "[encoded data removed]",
      "text/plain": [
       "<Figure size 800x500 with 1 Axes>"
      ]
     },
     "metadata": {},
     "output_type": "display_data"
    }
   ],
   "source": [
    "# Plot\n",
    "strategies = [bunny[int(var.name.split('_')[1])] for var in prob_vars]\n",
    "probabilities = [var.varValue for var in prob_vars]\n",
    "\n",
    "plt.figure(figsize=(8,5))\n",
    "plt.bar(strategies, probabilities, color='lightblue', edgecolor='black')\n",
    "plt.title(f'Optimal Strategy for Rock-Paper-Scissors (Game Value: {v.varValue:.2f})')\n",
    "plt.ylabel('Probability')\n",
    "plt.ylim(0, 1)\n",
    "plt.grid(axis='y')\n",
    "plt.show()"
   ]
  },
  {
   "cell_type": "code",
   "execution_count": null,
   "id": "6a2f5378",
   "metadata": {},
   "outputs": [],
   "source": []
  }
 ],
 "metadata": {
  "kernelspec": {
   "display_name": "Python (py310lin)",
   "language": "python",
   "name": "your_environment_name"
  },
  "language_info": {
   "codemirror_mode": {
    "name": "ipython",
    "version": 3
   },
   "file_extension": ".py",
   "mimetype": "text/x-python",
   "name": "python",
   "nbconvert_exporter": "python",
   "pygments_lexer": "ipython3",
   "version": "3.10.16"
  }
 },
 "nbformat": 4,
 "nbformat_minor": 5
}
