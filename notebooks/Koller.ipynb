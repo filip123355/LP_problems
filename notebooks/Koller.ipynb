{
 "cells": [
  {
   "cell_type": "code",
   "execution_count": 1,
   "id": "3601f265-a979-4044-9078-0a305ca01387",
   "metadata": {},
   "outputs": [],
   "source": [
    "import pyscipopt\n",
    "import numpy as np"
   ]
  },
  {
   "cell_type": "markdown",
   "id": "5ff8a3d6",
   "metadata": {},
   "source": [
    "# Normal form"
   ]
  },
  {
   "cell_type": "code",
   "execution_count": null,
   "id": "cd7dcb80-2568-4c59-b966-79699af901f3",
   "metadata": {},
   "outputs": [],
   "source": [
    "M = np.array([[9, 15, 9, 15],\n",
    "              [13, 10, 13, 10],\n",
    "              [9, 15, 9, 15],\n",
    "              [13, 10, 13, 10],\n",
    "              [8, 14, 10, 16],\n",
    "              [10, 7, 12, 9],\n",
    "              [9, 15, 5, 11],\n",
    "              [11, 8, 7, 4]])\n",
    "\n",
    "# M = -M.T strategia przeciwnika\n",
    "\n",
    "m, n = M.shape"
   ]
  },
  {
   "cell_type": "code",
   "execution_count": 9,
   "id": "cf252e7f-6e21-427e-9d00-224477409478",
   "metadata": {},
   "outputs": [
    {
     "name": "stdout",
     "output_type": "stream",
     "text": [
      "presolving:\n",
      "(round 1, fast)       0 del vars, 0 del conss, 0 add conss, 1 chg bounds, 0 chg sides, 0 chg coeffs, 0 upgd conss, 0 impls, 0 clqs\n",
      "(round 2, fast)       0 del vars, 0 del conss, 0 add conss, 2 chg bounds, 0 chg sides, 0 chg coeffs, 0 upgd conss, 0 impls, 0 clqs\n",
      "(round 3, exhaustive) 5 del vars, 0 del conss, 0 add conss, 2 chg bounds, 0 chg sides, 0 chg coeffs, 0 upgd conss, 0 impls, 0 clqs\n",
      "(round 4, fast)       5 del vars, 0 del conss, 0 add conss, 3 chg bounds, 0 chg sides, 0 chg coeffs, 0 upgd conss, 0 impls, 0 clqs\n",
      "(round 5, exhaustive) 5 del vars, 2 del conss, 0 add conss, 3 chg bounds, 2 chg sides, 0 chg coeffs, 0 upgd conss, 0 impls, 0 clqs\n",
      "(round 6, exhaustive) 6 del vars, 2 del conss, 0 add conss, 3 chg bounds, 2 chg sides, 0 chg coeffs, 0 upgd conss, 0 impls, 0 clqs\n",
      "(round 7, fast)       7 del vars, 3 del conss, 0 add conss, 4 chg bounds, 2 chg sides, 0 chg coeffs, 0 upgd conss, 0 impls, 0 clqs\n",
      "(round 8, fast)       7 del vars, 3 del conss, 0 add conss, 5 chg bounds, 2 chg sides, 0 chg coeffs, 0 upgd conss, 0 impls, 0 clqs\n",
      "(round 9, fast)       7 del vars, 3 del conss, 0 add conss, 7 chg bounds, 2 chg sides, 0 chg coeffs, 0 upgd conss, 0 impls, 0 clqs\n",
      "(round 10, fast)       8 del vars, 4 del conss, 0 add conss, 7 chg bounds, 2 chg sides, 0 chg coeffs, 0 upgd conss, 0 impls, 0 clqs\n",
      "(round 11, fast)       8 del vars, 5 del conss, 0 add conss, 8 chg bounds, 2 chg sides, 0 chg coeffs, 0 upgd conss, 0 impls, 0 clqs\n",
      "presolving (12 rounds: 12 fast, 4 medium, 4 exhaustive):\n",
      " 9 deleted vars, 5 deleted constraints, 0 added constraints, 8 tightened bounds, 0 added holes, 2 changed sides, 0 changed coefficients\n",
      " 0 implications, 0 cliques\n",
      "transformed 1/1 original solutions to the transformed problem space\n",
      "Presolving Time: 0.00\n",
      "\n",
      "SCIP Status        : problem is solved [optimal solution found]\n",
      "Solving Time (sec) : 0.00\n",
      "Solving Nodes      : 0\n",
      "Primal Bound       : +1.21428571428571e+01 (1 solutions)\n",
      "Dual Bound         : +1.21428571428571e+01\n",
      "Gap                : 0.00 %\n"
     ]
    }
   ],
   "source": [
    "lp = pyscipopt.Model()\n",
    "\n",
    "v = lp.addVar(vtype=\"C\", lb=-lp.infinity(), ub=lp.infinity())\n",
    "x = {i: lp.addVar(f\"x[{i}]\", vtype=\"C\", lb=0.0, ub=1.0) for i in range(m)}\n",
    "\n",
    "lp.setObjective(v)\n",
    "lp.setMaximize()\n",
    "\n",
    "for j in range(n):\n",
    "    lp.addCons(v <= pyscipopt.quicksum(M[i, j] * x[i] for i in range(m)))\n",
    "\n",
    "lp.addCons(pyscipopt.quicksum(x[i] for i in range(m)) == 1)\n",
    "\n",
    "lp.optimize()"
   ]
  },
  {
   "cell_type": "code",
   "execution_count": 10,
   "id": "4e789da7-2fd9-49af-a428-3ca8418c7849",
   "metadata": {},
   "outputs": [
    {
     "data": {
      "text/plain": [
       "{0: 0.4285714285714286,\n",
       " 1: 0.5714285714285714,\n",
       " 2: 0.0,\n",
       " 3: 0.0,\n",
       " 4: 0.0,\n",
       " 5: 0.0,\n",
       " 6: 0.0,\n",
       " 7: 0.0}"
      ]
     },
     "execution_count": 10,
     "metadata": {},
     "output_type": "execute_result"
    }
   ],
   "source": [
    "{i: lp.getVal(x[i]) for i in range(m)}"
   ]
  },
  {
   "cell_type": "code",
   "execution_count": 5,
   "id": "0948e204-fe49-4f23-a04d-fdf8bbb8f049",
   "metadata": {},
   "outputs": [
    {
     "name": "stdout",
     "output_type": "stream",
     "text": [
      "presolving:\n",
      "(round 1, fast)       3 del vars, 3 del conss, 0 add conss, 4 chg bounds, 0 chg sides, 0 chg coeffs, 0 upgd conss, 0 impls, 0 clqs\n",
      "(round 2, fast)       3 del vars, 3 del conss, 0 add conss, 6 chg bounds, 0 chg sides, 0 chg coeffs, 0 upgd conss, 0 impls, 0 clqs\n",
      "(round 3, fast)       3 del vars, 3 del conss, 0 add conss, 7 chg bounds, 0 chg sides, 0 chg coeffs, 0 upgd conss, 0 impls, 0 clqs\n",
      "(round 4, fast)       3 del vars, 3 del conss, 0 add conss, 10 chg bounds, 0 chg sides, 0 chg coeffs, 0 upgd conss, 0 impls, 0 clqs\n",
      "(round 5, fast)       6 del vars, 5 del conss, 0 add conss, 10 chg bounds, 0 chg sides, 0 chg coeffs, 0 upgd conss, 0 impls, 0 clqs\n",
      "(round 6, fast)       6 del vars, 6 del conss, 0 add conss, 11 chg bounds, 1 chg sides, 0 chg coeffs, 0 upgd conss, 0 impls, 0 clqs\n",
      "(round 7, fast)       7 del vars, 6 del conss, 0 add conss, 11 chg bounds, 1 chg sides, 0 chg coeffs, 0 upgd conss, 0 impls, 0 clqs\n",
      "   (0.0s) symmetry computation started: requiring (bin +, int +, cont +), (fixed: bin -, int -, cont -)\n",
      "   (0.0s) no symmetry present (symcode time: 0.00)\n",
      "presolving (8 rounds: 8 fast, 1 medium, 1 exhaustive):\n",
      " 7 deleted vars, 6 deleted constraints, 0 added constraints, 11 tightened bounds, 0 added holes, 1 changed sides, 0 changed coefficients\n",
      " 0 implications, 0 cliques\n",
      "presolved problem has 3 variables (0 bin, 0 int, 0 impl, 3 cont) and 3 constraints\n",
      "      3 constraints of type <linear>\n",
      "Presolving Time: 0.00\n",
      "\n",
      " time | node  | left  |LP iter|LP it/n|mem/heur|mdpt |vars |cons |rows |cuts |sepa|confs|strbr|  dualbound   | primalbound  |  gap   | compl. \n",
      "t 0.0s|     1 |     0 |     0 |     - | trivial|   0 |   3 |   3 |   0 |   0 |  0 |   0 |   0 | 1.566667e+01 | 1.166667e+01 |  34.29%| unknown\n",
      "* 0.0s|     1 |     0 |     3 |     - |    LP  |   0 |   3 |   3 |   3 |   0 |  0 |   0 |   0 | 1.300000e+01 | 1.300000e+01 |   0.00%| unknown\n",
      "  0.0s|     1 |     0 |     3 |     - |   621k |   0 |   3 |   3 |   3 |   0 |  0 |   0 |   0 | 1.300000e+01 | 1.300000e+01 |   0.00%| unknown\n",
      "\n",
      "SCIP Status        : problem is solved [optimal solution found]\n",
      "Solving Time (sec) : 0.00\n",
      "Solving Nodes      : 1\n",
      "Primal Bound       : +1.30000000000000e+01 (3 solutions)\n",
      "Dual Bound         : +1.30000000000000e+01\n",
      "Gap                : 0.00 %\n"
     ]
    }
   ],
   "source": [
    "E = np.matrix([[1, 0, 0, 0, 0, 0, 0],\n",
    "               [-1, 1, 1, 0, 0, 0, 0],\n",
    "               [0, 0, -1, 1, 1, 0, 0],\n",
    "               [-1, 0, 0, 0, 0, 1, 1]])\n",
    "\n",
    "_, m = E.shape\n",
    "\n",
    "e = np.matrix([[1], [0], [0], [0]])\n",
    "\n",
    "F = np.matrix([[1, 0, 0, 0, 0],\n",
    "               [-1, 1, 1, 0, 0],\n",
    "               [-1, 0, 0, 1, 1]])\n",
    "\n",
    "f = np.matrix([[1], [0], [0]])\n",
    "\n",
    "_, n = F.shape\n",
    "\n",
    "A = np.matrix([[2, 0, 0, 0, 0],\n",
    "               [1, 0, 0, 0, 0],\n",
    "               [0, 0, 0, 0, 0],\n",
    "               [0, 2, 4, 0, 0],\n",
    "               [0, 3, -1, 0, 0],\n",
    "               [2, 0, 0, 4, 10],\n",
    "               [4, 0, 0, 6 ,3]])\n",
    "\n",
    "# Problem (8)\n",
    "\n",
    "lp = pyscipopt.Model()\n",
    "# y = {j: lp.addVar(f\"y[{j}]\", vtype=\"C\", lb=0.0, ub=1.0) for j in range(n)}\n",
    "x = {i: lp.addVar(f\"x[{i}]\", vtype=\"C\", lb=0.0, ub=1.0) for i in range(m)}\n",
    "q = {k: lp.addVar(f\"q[{k}]\", vtype=\"C\", lb=-lp.infinity(), ub=lp.infinity()) for k in range(f.shape[0])}\n",
    "\n",
    "lp.setObjective(-pyscipopt.quicksum(f[k, 0] * q[k] for k in range(f.shape[0])))\n",
    "lp.setMaximize()\n",
    "\n",
    "for i in range(n):\n",
    "    lp.addCons(pyscipopt.quicksum(-A[j, i] * x[j] for j in range(m)) -\n",
    "               pyscipopt.quicksum(F[k, i] * q[k] for k in range(f.shape[0])) <= 0)\n",
    "\n",
    "for i in range(E.shape[0]):\n",
    "    lp.addCons(pyscipopt.quicksum(E.T[j, i] * x[j] for j in range(m)) == e[i, 0])\n",
    "\n",
    "lp.optimize()"
   ]
  },
  {
   "cell_type": "code",
   "execution_count": 7,
   "id": "b2119501-ebd9-4c7e-91ee-27f5be03347a",
   "metadata": {},
   "outputs": [
    {
     "data": {
      "text/plain": [
       "{0: 1.0,\n",
       " 1: 0.0,\n",
       " 2: 1.0,\n",
       " 3: 0.6666666666666666,\n",
       " 4: 0.33333333333333337,\n",
       " 5: 0.33333333333333337,\n",
       " 6: 0.6666666666666666}"
      ]
     },
     "execution_count": 7,
     "metadata": {},
     "output_type": "execute_result"
    }
   ],
   "source": [
    "{i: lp.getVal(x[i]) for i in range(m)}"
   ]
  },
  {
   "cell_type": "code",
   "execution_count": null,
   "id": "5ebd89c3",
   "metadata": {},
   "outputs": [],
   "source": []
  },
  {
   "cell_type": "code",
   "execution_count": null,
   "id": "f3232f23",
   "metadata": {},
   "outputs": [],
   "source": []
  }
 ],
 "metadata": {
  "kernelspec": {
   "display_name": "Python (py310lin)",
   "language": "python",
   "name": "your_environment_name"
  },
  "language_info": {
   "codemirror_mode": {
    "name": "ipython",
    "version": 3
   },
   "file_extension": ".py",
   "mimetype": "text/x-python",
   "name": "python",
   "nbconvert_exporter": "python",
   "pygments_lexer": "ipython3",
   "version": "3.10.16"
  }
 },
 "nbformat": 4,
 "nbformat_minor": 5
}
