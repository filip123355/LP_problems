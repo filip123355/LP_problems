{
 "cells": [
  {
   "cell_type": "code",
   "execution_count": 2,
   "id": "3601f265-a979-4044-9078-0a305ca01387",
   "metadata": {},
   "outputs": [],
   "source": [
    "import pyscipopt\n",
    "import numpy as np"
   ]
  },
  {
   "cell_type": "code",
   "execution_count": 33,
   "id": "cd7dcb80-2568-4c59-b966-79699af901f3",
   "metadata": {},
   "outputs": [],
   "source": [
    "M = np.array([[9, 15, 9, 15],\n",
    "              [13, 10, 13, 10],\n",
    "              [9, 15, 9, 15],\n",
    "              [13, 10, 13, 10],\n",
    "              [8, 14, 10, 16],\n",
    "              [10, 7, 12, 9],\n",
    "              [9, 15, 5, 11],\n",
    "              [11, 8, 7, 4]])\n",
    "\n",
    "# M = -M.T strategia przeciwnika\n",
    "\n",
    "m, n = M.shape"
   ]
  },
  {
   "cell_type": "code",
   "execution_count": 34,
   "id": "cf252e7f-6e21-427e-9d00-224477409478",
   "metadata": {},
   "outputs": [
    {
     "name": "stdout",
     "output_type": "stream",
     "text": [
      "presolving:\n",
      "(round 1, fast)       0 del vars, 0 del conss, 0 add conss, 1 chg bounds, 0 chg sides, 0 chg coeffs, 0 upgd conss, 0 impls, 0 clqs\n",
      "(round 2, fast)       0 del vars, 0 del conss, 0 add conss, 2 chg bounds, 0 chg sides, 0 chg coeffs, 0 upgd conss, 0 impls, 0 clqs\n",
      "(round 3, exhaustive) 5 del vars, 0 del conss, 0 add conss, 2 chg bounds, 0 chg sides, 0 chg coeffs, 0 upgd conss, 0 impls, 0 clqs\n",
      "(round 4, fast)       5 del vars, 0 del conss, 0 add conss, 3 chg bounds, 0 chg sides, 0 chg coeffs, 0 upgd conss, 0 impls, 0 clqs\n",
      "(round 5, exhaustive) 5 del vars, 2 del conss, 0 add conss, 3 chg bounds, 2 chg sides, 0 chg coeffs, 0 upgd conss, 0 impls, 0 clqs\n",
      "(round 6, exhaustive) 6 del vars, 2 del conss, 0 add conss, 3 chg bounds, 2 chg sides, 0 chg coeffs, 0 upgd conss, 0 impls, 0 clqs\n",
      "(round 7, fast)       7 del vars, 3 del conss, 0 add conss, 4 chg bounds, 2 chg sides, 0 chg coeffs, 0 upgd conss, 0 impls, 0 clqs\n",
      "(round 8, fast)       7 del vars, 3 del conss, 0 add conss, 5 chg bounds, 2 chg sides, 0 chg coeffs, 0 upgd conss, 0 impls, 0 clqs\n",
      "(round 9, fast)       7 del vars, 3 del conss, 0 add conss, 7 chg bounds, 2 chg sides, 0 chg coeffs, 0 upgd conss, 0 impls, 0 clqs\n",
      "(round 10, fast)       7 del vars, 3 del conss, 0 add conss, 8 chg bounds, 2 chg sides, 0 chg coeffs, 0 upgd conss, 0 impls, 0 clqs\n",
      "(round 11, fast)       8 del vars, 4 del conss, 0 add conss, 8 chg bounds, 2 chg sides, 0 chg coeffs, 0 upgd conss, 0 impls, 0 clqs\n",
      "(round 12, fast)       8 del vars, 5 del conss, 0 add conss, 9 chg bounds, 2 chg sides, 0 chg coeffs, 0 upgd conss, 0 impls, 0 clqs\n",
      "presolving (13 rounds: 13 fast, 4 medium, 4 exhaustive):\n",
      " 9 deleted vars, 5 deleted constraints, 0 added constraints, 9 tightened bounds, 0 added holes, 2 changed sides, 0 changed coefficients\n",
      " 0 implications, 0 cliques\n",
      "transformed 1/1 original solutions to the transformed problem space\n",
      "Presolving Time: 0.00\n",
      "\n",
      "SCIP Status        : problem is solved [optimal solution found]\n",
      "Solving Time (sec) : 0.00\n",
      "Solving Nodes      : 0\n",
      "Primal Bound       : +1.16666666666667e+01 (1 solutions)\n",
      "Dual Bound         : +1.16666666666667e+01\n",
      "Gap                : 0.00 %\n"
     ]
    }
   ],
   "source": [
    "lp = pyscipopt.Model()\n",
    "\n",
    "v = lp.addVar(vtype=\"C\", lb=-lp.infinity(), ub=lp.infinity())\n",
    "x = {i: lp.addVar(f\"x[{i}]\", vtype=\"C\", lb=0.0, ub=1.0) for i in range(m)}\n",
    "\n",
    "lp.setObjective(v)\n",
    "lp.setMaximize()\n",
    "\n",
    "for j in range(n):\n",
    "    lp.addCons(v <= pyscipopt.quicksum(M[i, j] * x[i] for i in range(m)))\n",
    "\n",
    "lp.addCons(pyscipopt.quicksum(x[i] for i in range(m)) == 1)\n",
    "\n",
    "lp.optimize()"
   ]
  },
  {
   "cell_type": "code",
   "execution_count": 35,
   "id": "4e789da7-2fd9-49af-a428-3ca8418c7849",
   "metadata": {},
   "outputs": [
    {
     "data": {
      "text/plain": [
       "{0: 0.33333333333333337,\n",
       " 1: 0.6666666666666666,\n",
       " 2: 0.0,\n",
       " 3: 0.0,\n",
       " 4: 0.0,\n",
       " 5: 0.0,\n",
       " 6: 0.0,\n",
       " 7: 0.0}"
      ]
     },
     "execution_count": 35,
     "metadata": {},
     "output_type": "execute_result"
    }
   ],
   "source": [
    "{i: lp.getVal(x[i]) for i in range(m)}"
   ]
  },
  {
   "cell_type": "code",
   "execution_count": 43,
   "id": "0948e204-fe49-4f23-a04d-fdf8bbb8f049",
   "metadata": {},
   "outputs": [
    {
     "name": "stdout",
     "output_type": "stream",
     "text": [
      "presolving:\n",
      "(round 1, fast)       10 del vars, 3 del conss, 0 add conss, 4 chg bounds, 0 chg sides, 0 chg coeffs, 0 upgd conss, 0 impls, 0 clqs\n",
      "(round 2, fast)       10 del vars, 4 del conss, 0 add conss, 9 chg bounds, 0 chg sides, 0 chg coeffs, 0 upgd conss, 0 impls, 0 clqs\n",
      "(round 3, fast)       10 del vars, 4 del conss, 0 add conss, 11 chg bounds, 0 chg sides, 0 chg coeffs, 0 upgd conss, 0 impls, 0 clqs\n",
      "(round 4, fast)       10 del vars, 4 del conss, 0 add conss, 12 chg bounds, 0 chg sides, 0 chg coeffs, 0 upgd conss, 0 impls, 0 clqs\n",
      "(round 5, fast)       10 del vars, 4 del conss, 0 add conss, 16 chg bounds, 0 chg sides, 0 chg coeffs, 0 upgd conss, 0 impls, 0 clqs\n",
      "(round 6, fast)       12 del vars, 6 del conss, 0 add conss, 16 chg bounds, 0 chg sides, 0 chg coeffs, 0 upgd conss, 0 impls, 0 clqs\n",
      "(round 7, fast)       13 del vars, 8 del conss, 0 add conss, 17 chg bounds, 0 chg sides, 0 chg coeffs, 0 upgd conss, 0 impls, 0 clqs\n",
      "(round 8, fast)       14 del vars, 8 del conss, 0 add conss, 18 chg bounds, 0 chg sides, 0 chg coeffs, 0 upgd conss, 0 impls, 0 clqs\n",
      "(round 9, fast)       15 del vars, 10 del conss, 0 add conss, 19 chg bounds, 0 chg sides, 0 chg coeffs, 0 upgd conss, 0 impls, 0 clqs\n",
      "presolving (10 rounds: 10 fast, 1 medium, 1 exhaustive):\n",
      " 16 deleted vars, 10 deleted constraints, 0 added constraints, 19 tightened bounds, 0 added holes, 0 changed sides, 0 changed coefficients\n",
      " 0 implications, 0 cliques\n",
      "transformed 1/1 original solutions to the transformed problem space\n",
      "Presolving Time: 0.00\n",
      "\n",
      "SCIP Status        : problem is solved [optimal solution found]\n",
      "Solving Time (sec) : 0.00\n",
      "Solving Nodes      : 0\n",
      "Primal Bound       : +1.30000000000000e+01 (1 solutions)\n",
      "Dual Bound         : +1.30000000000000e+01\n",
      "Gap                : 0.00 %\n"
     ]
    }
   ],
   "source": [
    "E = np.matrix([[1, 0, 0, 0, 0, 0, 0],\n",
    "               [-1, 1, 1, 0, 0, 0, 0],\n",
    "               [0, 0, -1, 1, 1, 0, 0],\n",
    "               [-1, 0, 0, 0, 0, 1, 1]])\n",
    "\n",
    "_, m = E.shape\n",
    "\n",
    "e = np.matrix([[1],[0],[0],[0]])\n",
    "\n",
    "F = np.matrix([[1, 0, 0, 0, 0],\n",
    "               [-1, 1, 1, 0, 0],\n",
    "               [-1, 0, 0, 1, 1]])\n",
    "f = np.matrix([[1], [0], [0]])\n",
    "\n",
    "_, n = F.shape\n",
    "\n",
    "A = np.matrix([[2, 0, 0, 0, 0],\n",
    "               [1, 0, 0, 0, 0],\n",
    "               [0, 0, 0, 0, 0],\n",
    "               [0, 2, 4, 0, 0],\n",
    "               [0, 3, -1, 0, 0],\n",
    "               [2, 0, 0, 4, 10],\n",
    "               [4, 0, 0, 6 ,3]])\n",
    "\n",
    "# Problem (8)\n",
    "\n",
    "lp = pyscipopt.Model()\n",
    "x = {i: lp.addVar(f\"x[{i}]\", vtype=\"C\", lb=0.0, ub=1.0) for i in range(m)}\n",
    "y = {j: lp.addVar(f\"y[{j}]\", vtype=\"C\", lb=0.0, ub=1.0) for j in range(n)}\n",
    "\n",
    "p = {k: lp.addVar(f\"p[{k}]\", vtype=\"C\", lb=-lp.infinity(), ub=lp.infinity()) for k in range(e.shape[0])}\n",
    "\n",
    "lp.setObjective(pyscipopt.quicksum(e[k, 0] * p[k] for k in range(e.shape[0])))\n",
    "lp.setMinimize()\n",
    "\n",
    "for i in range(m):\n",
    "    lp.addCons(pyscipopt.quicksum(-A[i, j] * y[j] for j in range(n)) + \n",
    "               pyscipopt.quicksum(E.T[i, k] * p[k] for k in range(e.shape[0])) >= 0)\n",
    "\n",
    "for i in range(F.shape[0]):\n",
    "    lp.addCons(pyscipopt.quicksum(-F[i, j] * y[j] for j in range(n)) == -f[i, 0])\n",
    "\n",
    "lp.optimize()"
   ]
  },
  {
   "cell_type": "code",
   "execution_count": null,
   "id": "b2119501-ebd9-4c7e-91ee-27f5be03347a",
   "metadata": {},
   "outputs": [],
   "source": []
  }
 ],
 "metadata": {
  "kernelspec": {
   "display_name": "bluff",
   "language": "python",
   "name": "bluff"
  },
  "language_info": {
   "codemirror_mode": {
    "name": "ipython",
    "version": 3
   },
   "file_extension": ".py",
   "mimetype": "text/x-python",
   "name": "python",
   "nbconvert_exporter": "python",
   "pygments_lexer": "ipython3",
   "version": "3.13.3"
  }
 },
 "nbformat": 4,
 "nbformat_minor": 5
}
